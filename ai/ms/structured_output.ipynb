{
 "cells": [
  {
   "cell_type": "code",
   "execution_count": 1,
   "id": "2f0b09a2-da0a-4677-9208-2afa9cc5109f",
   "metadata": {},
   "outputs": [],
   "source": [
    "# import sys\n",
    "# !{sys.executable} -m pip install --upgrade pip\n",
    "# !{sys.executable} -m pip install --upgrade python-dotenv\n",
    "# !{sys.executable} -m pip install --upgrade groq\n",
    "# !{sys.executable} -m pip install --upgrade pydantic"
   ]
  },
  {
   "cell_type": "markdown",
   "id": "3fd24578-d5c0-42ac-b4d6-774655f28721",
   "metadata": {},
   "source": [
    "## Load Groq API Key"
   ]
  },
  {
   "cell_type": "code",
   "execution_count": 2,
   "id": "a7b8dc48-46f1-48d1-98ae-79d11c4f0125",
   "metadata": {},
   "outputs": [
    {
     "data": {
      "text/plain": [
       "True"
      ]
     },
     "execution_count": 2,
     "metadata": {},
     "output_type": "execute_result"
    }
   ],
   "source": [
    "from dotenv import load_dotenv\n",
    "load_dotenv()"
   ]
  },
  {
   "cell_type": "markdown",
   "id": "8bf90fba-eab8-453c-9914-efd5f0dc1dc1",
   "metadata": {},
   "source": [
    "## Class Structure\n",
    "### [10 Top-Performing Dividend Stocks](https://www.morningstar.com/stocks/10-top-performing-dividend-stocks)"
   ]
  },
  {
   "cell_type": "code",
   "execution_count": 3,
   "id": "41dc2b93-70b7-4e0d-889a-6dd4f4765939",
   "metadata": {},
   "outputs": [],
   "source": [
    "from pydantic import BaseModel\n",
    "from typing import Literal\n",
    "\n",
    "class StockReview(BaseModel):\n",
    "    company_name: str\n",
    "    ticker: str\n",
    "    last_month_performance: float\n",
    "    last_12_month_performance: float\n",
    "    price: float\n",
    "    fwd_dividend: float\n",
    "    dividend_per_share: float\n",
    "    industry: str\n",
    "    quantitative_rating: int"
   ]
  },
  {
   "cell_type": "markdown",
   "id": "1d3ccb04-bff4-4eb2-8766-f79672f46490",
   "metadata": {},
   "source": [
    "## Run AI Agent"
   ]
  },
  {
   "cell_type": "code",
   "execution_count": 4,
   "id": "6be623d6-a830-418a-8151-417dec3aa818",
   "metadata": {},
   "outputs": [],
   "source": [
    "from groq import Groq\n",
    "import json\n",
    "\n",
    "client = Groq()\n",
    "\n",
    "def run(content:str) -> None:\n",
    "    response = client.chat.completions.create(\n",
    "        model='moonshotai/kimi-k2-instruct',\n",
    "        messages=[\n",
    "            {'role': 'system',\n",
    "             'content': 'Extract stock review information from the text.'\n",
    "            },\n",
    "            {\n",
    "                'role': 'user',\n",
    "                'content': content,\n",
    "            },\n",
    "        ],\n",
    "        response_format={\n",
    "            'type': 'json_schema',\n",
    "            'json_schema': {\n",
    "                'name': 'stock_review',\n",
    "                'schema': StockReview.model_json_schema()\n",
    "            }\n",
    "        }\n",
    "    )\n",
    "    review = StockReview.model_validate(json.loads(response.choices[0].message.content))\n",
    "    print(review.model_dump_json(indent=4))"
   ]
  },
  {
   "cell_type": "code",
   "execution_count": 5,
   "id": "291f2927-229f-44f1-abce-f6a7519ac8f8",
   "metadata": {},
   "outputs": [
    {
     "name": "stdout",
     "output_type": "stream",
     "text": [
      "{\n",
      "    \"company_name\": \"APA\",\n",
      "    \"ticker\": \"APA\",\n",
      "    \"last_month_performance\": 20.37,\n",
      "    \"last_12_month_performance\": -14.99,\n",
      "    \"price\": 23.22,\n",
      "    \"fwd_dividend\": 4.31,\n",
      "    \"dividend_per_share\": 1.0,\n",
      "    \"industry\": \"Oil and gas exploration and production\",\n",
      "    \"quantitative_rating\": 3\n",
      "}\n"
     ]
    }
   ],
   "source": [
    "content = \"\"\"\n",
    "Oil and gas exploration and production company APA gained 20.37% in August and dropped 14.99%\n",
    "over the past 12 months. The stock’s $23.22 price gives it a forward dividend yield of 4.31%.\n",
    "APA pays investors an annual dividend of $1 per share. The stock has a quantitative\n",
    "Morningstar Rating of 3 stars.\n",
    "\"\"\"\n",
    "# Run the agent\n",
    "run(content=content)"
   ]
  },
  {
   "cell_type": "code",
   "execution_count": 6,
   "id": "2f04f576-2b2e-411a-8b29-7f039350824d",
   "metadata": {},
   "outputs": [
    {
     "name": "stdout",
     "output_type": "stream",
     "text": [
      "{\n",
      "    \"company_name\": \"CVS Health\",\n",
      "    \"ticker\": \"CVS\",\n",
      "    \"last_month_performance\": 17.79,\n",
      "    \"last_12_month_performance\": 32.44,\n",
      "    \"price\": 73.15,\n",
      "    \"fwd_dividend\": 3.64,\n",
      "    \"dividend_per_share\": 2.66,\n",
      "    \"industry\": \"Healthcare plans\",\n",
      "    \"quantitative_rating\": 4\n",
      "}\n"
     ]
    }
   ],
   "source": [
    "content = \"\"\"\n",
    "Healthcare plans company CVS Health rose 17.79% in August and gained 32.44% over\n",
    "the past 12 months. Trading at $73.15, its stock has a forward dividend yield\n",
    "of 3.64%. CVS Health pays investors an annual dividend of $2.66 per share. The\n",
    "stock has a quantitative Morningstar Rating of 4 stars.\n",
    "\"\"\"\n",
    "# Run the agent\n",
    "run(content=content)"
   ]
  },
  {
   "cell_type": "markdown",
   "id": "8c2c66ed-6734-49d2-b594-4fe4009a077f",
   "metadata": {},
   "source": [
    "## Class Structure\n",
    "[The best AI stocks to buy now](https://www.nabtrade.com.au/insights/news/2025/09/the-best-ai-stocks-to-buy-now)"
   ]
  },
  {
   "cell_type": "code",
   "execution_count": 7,
   "id": "68e8dcc9-1fd9-41b6-bcc4-470269ab4169",
   "metadata": {},
   "outputs": [],
   "source": [
    "from pydantic import BaseModel, Field\n",
    "from typing import Literal\n",
    "\n",
    "class StockReview(BaseModel):\n",
    "    stock_name: str\n",
    "    ticker: str\n",
    "    rating_stars: int = Field(ge=1, le=5)\n",
    "    moat_rating: Literal['Wide', 'Narrow', 'No Moat']\n",
    "    uncertainity_rating: Literal['Low', 'Medium', 'High', 'Very High', 'Extreme']\n",
    "    fair_value: float\n",
    "    industry: str\n",
    "    key_features: list[str]"
   ]
  },
  {
   "cell_type": "code",
   "execution_count": 8,
   "id": "1a12085f-5d2c-4881-87c9-74fdeb860802",
   "metadata": {},
   "outputs": [
    {
     "name": "stdout",
     "output_type": "stream",
     "text": [
      "{\n",
      "    \"stock_name\": \"Alphabet\",\n",
      "    \"ticker\": \"GOOGL\",\n",
      "    \"rating_stars\": 4,\n",
      "    \"moat_rating\": \"Wide\",\n",
      "    \"uncertainity_rating\": \"Medium\",\n",
      "    \"fair_value\": 237.0,\n",
      "    \"industry\": \"Internet Content and Information\",\n",
      "    \"key_features\": [\n",
      "        \"Dominant Google Search with 90% of revenue\",\n",
      "        \"AI front-runner leveraging investments to protect Search\",\n",
      "        \"Diverse portfolio: ads, cloud, self-driving cars\",\n",
      "        \"Generates tens of billions in annual free cash flow\",\n",
      "        \"Leader across search, AI, video, and cloud computing\"\n",
      "    ]\n",
      "}\n"
     ]
    }
   ],
   "source": [
    "content = \"\"\"\n",
    "Alphabet\n",
    "\n",
    "    Morningstar Rating: 4-Stars\n",
    "    Morningstar Economic Moat Rating: Wide\n",
    "    Morningstar Uncertainty Rating: Medium\n",
    "    Industry: Internet Content and Information\n",
    "\n",
    "Alphabet is a holding company that wholly owns internet giant Google, and Google services \n",
    "account for nearly 90% of Alphabet’s revenue. We consider Google an AI front-runner, and \n",
    "its investments in AI are a continuation of the effort to safeguard its core product, \n",
    "Google Search. This cheap AI stock trades 14% below our fair value estimate of $237 per share.\n",
    "\n",
    "We view Alphabet as a conglomerate of stellar businesses. With solutions ranging from advertising \n",
    "to cloud computing and self-driving cars, Alphabet has built itself into a true technology behemoth, \n",
    "generating tens of billions of dollars in free cash flow annually. While antitrust concerns around \n",
    "Alphabet’s core search business have made headlines, we retain our confidence in Alphabet’s overall \n",
    "strength and foresee the firm remaining at the forefront of a variety of verticals including search, \n",
    "artificial intelligence, video, and cloud computing.\n",
    "\"\"\"\n",
    "# Run the agent\n",
    "run(content=content)"
   ]
  },
  {
   "cell_type": "code",
   "execution_count": 9,
   "id": "73970283-1bed-43b3-b40c-a7fd9c1a31a3",
   "metadata": {},
   "outputs": [
    {
     "name": "stdout",
     "output_type": "stream",
     "text": [
      "{\n",
      "    \"stock_name\": \"Taiwan Semiconductor Manufacturing\",\n",
      "    \"ticker\": \"TSM\",\n",
      "    \"rating_stars\": 4,\n",
      "    \"moat_rating\": \"Wide\",\n",
      "    \"uncertainity_rating\": \"Medium\",\n",
      "    \"fair_value\": 306.0,\n",
      "    \"industry\": \"Semiconductors\",\n",
      "    \"key_features\": [\n",
      "        \"World’s largest dedicated contract chip manufacturer with mid-60s market share\",\n",
      "        \"Primary beneficiary of global shift to fabless semiconductor model\",\n",
      "        \"Strong AI-driven demand visibility from US and Western markets for next five years\",\n",
      "        \"22% undervalued versus $306 fair value estimate\",\n",
      "        \"Wide economic moat from scale, technology and customer switching costs\"\n",
      "    ]\n",
      "}\n"
     ]
    }
   ],
   "source": [
    "content = \"\"\"\n",
    "Taiwan Semiconductor Manufacturing\n",
    "\n",
    "    Morningstar Rating: 4-Stars\n",
    "    Morningstar Economic Moat Rating: Wide\n",
    "    Morningstar Uncertainty Rating: Medium\n",
    "    Industry: Semiconductors\n",
    "\n",
    "Taiwan Semiconductor Manufacturing is the only semiconductor company on our list of the best \n",
    "AI stocks. We believe demand from the US and other Western countries is enough to support TSMC’s \n",
    "AI revenue growth for the next five years. This AI stock appears 22% undervalued relative to \n",
    "our $306 fair value estimate.\n",
    "\n",
    "Taiwan Semiconductor Manufacturing Co. is the world’s largest dedicated contract chip manufacturer, \n",
    "or foundry, with mid-60s market share in 2024. It makes integrated circuits for customers based on \n",
    "their proprietary IC designs. TSMC has long benefited from semiconductor firms around the globe \n",
    "transitioning from integrated device manufacturers to fabless designers. Like all foundries, it \n",
    "assumes the costs and capital expenditures of running factories amid a highly cyclical market for \n",
    "its customers. Foundries tend to add excessive capacity during times of burgeoning demand, which \n",
    "can result in underutilization during downturns that hampers profitability.\n",
    "\"\"\"\n",
    "# Run the agent\n",
    "run(content=content)"
   ]
  }
 ],
 "metadata": {
  "kernelspec": {
   "display_name": "Python 3 (ipykernel)",
   "language": "python",
   "name": "python3"
  },
  "language_info": {
   "codemirror_mode": {
    "name": "ipython",
    "version": 3
   },
   "file_extension": ".py",
   "mimetype": "text/x-python",
   "name": "python",
   "nbconvert_exporter": "python",
   "pygments_lexer": "ipython3",
   "version": "3.13.7"
  }
 },
 "nbformat": 4,
 "nbformat_minor": 5
}
