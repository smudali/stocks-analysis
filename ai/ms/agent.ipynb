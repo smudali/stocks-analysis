{
 "cells": [
  {
   "cell_type": "code",
   "execution_count": 4,
   "id": "66dbace7-2e48-402a-9ae5-3e8ba7f7c83a",
   "metadata": {},
   "outputs": [],
   "source": [
    "import os\n",
    "# Read/write json\n",
    "import json"
   ]
  },
  {
   "cell_type": "code",
   "execution_count": 7,
   "id": "13fca2ca-ae59-457a-8e17-c740413ffa24",
   "metadata": {},
   "outputs": [],
   "source": [
    "# To check a string is an URL or not\n",
    "from urllib.parse import urlparse\n",
    "import requests\n",
    "\n",
    "def scrape_jina_ai(agent_id:str) -> None:\n",
    "    #1. Read the agent metadata\n",
    "    agent_dir = os.path.join(os.getcwd(), 'agent_data', agent_id)\n",
    "    with open(os.path.join(agent_dir, 'metadata.json'), 'r') as file:\n",
    "        metadata = json.load(file)\n",
    "\n",
    "    # Read url\n",
    "    article_url = metadata['url']\n",
    "\n",
    "    #2. Check the passed argument for an URL or not\n",
    "    result = urlparse(article_url)\n",
    "    assert all([result.scheme, result.netloc]), f'{article_url} is not a valid URL'\n",
    "           \n",
    "    #3. The filename to save the LLM friendly format\n",
    "    llm_input_file = f'{agent_dir}/llm_input.text'\n",
    "    if os.path.isfile(llm_input_file):\n",
    "        print(f'Skip {llm_input_file} as it exists')\n",
    "    else:\n",
    "        response = requests.get('https://r.jina.ai/' + article_url)\n",
    "        with open(llm_input_file, 'w') as file:\n",
    "            file.write(response.text)    \n",
    "        print(f'Written LLM friendly output to {llm_input_file}')"
   ]
  },
  {
   "cell_type": "code",
   "execution_count": 14,
   "id": "cc6ffe18-4419-424a-a555-6d419240ed2b",
   "metadata": {
    "editable": true,
    "slideshow": {
     "slide_type": ""
    },
    "tags": []
   },
   "outputs": [
    {
     "name": "stdout",
     "output_type": "stream",
     "text": [
      "Skip /home/sugath/py_envs/jupyter/ai/stocks/agent_data/us_biotech/llm_input.text as it exists\n"
     ]
    }
   ],
   "source": [
    "scrape_jina_ai(agent_id='us_biotech')"
   ]
  },
  {
   "cell_type": "code",
   "execution_count": 9,
   "id": "558d3bdf-c588-4382-9e32-224a1b102a11",
   "metadata": {
    "editable": true,
    "slideshow": {
     "slide_type": ""
    },
    "tags": []
   },
   "outputs": [],
   "source": [
    "# To load modules\n",
    "import importlib\n",
    "\n",
    "# AI agent modules\n",
    "from phi.agent import Agent, RunResponse\n",
    "from phi.model.groq import Groq\n",
    "\n",
    "# To read environment property file\n",
    "from dotenv import load_dotenv\n",
    "\n",
    "def run_agent(agent_id:str) -> RunResponse:\n",
    "    #1. Load the response model class dynamically\n",
    "    module = importlib.import_module(f'agent_data.{agent_id}.model')\n",
    "    # Retrieve the class from the imported module\n",
    "    model = getattr(module, 'StockList')\n",
    "\n",
    "    #2. Agent directory\n",
    "    agent_dir = os.path.join('agent_data', agent_id)\n",
    "    # Place to save the response\n",
    "    response_file = os.path.join(agent_dir, 'response.json')\n",
    "    \n",
    "    #3. Read the agent metadata\n",
    "    with open(f'{agent_dir}/metadata.json', 'r') as file:\n",
    "        metadata = json.load(file)\n",
    "\n",
    "    #4. Construct the agent\n",
    "    agent = Agent(\n",
    "        name=metadata['name'],\n",
    "        role=metadata['role'],\n",
    "        model=Groq(id=metadata['model_id']),\n",
    "        instructions=metadata['instructions'],\n",
    "        markdown=True,\n",
    "        show_tool_calls=True,\n",
    "        # debug_mode=True,\n",
    "        save_response_to_file=response_file,\n",
    "        response_model=model,\n",
    "        response_format={'type': 'json_object'}\n",
    "    )\n",
    "    #5. Load environment variables from .env file\n",
    "    load_dotenv()\n",
    "    \n",
    "    #6. Get the input text to pass to the agent\n",
    "    input_file = os.path.join(agent_dir, metadata['input'])\n",
    "    with open(input_file, 'r') as file:\n",
    "        content = file.read()\n",
    "\n",
    "    #7. Run the agent and return the response to the caller\n",
    "    return agent.run(content)"
   ]
  },
  {
   "cell_type": "code",
   "execution_count": 17,
   "id": "51919bcf-b1de-4299-9063-7bddc4ea89c7",
   "metadata": {
    "editable": true,
    "scrolled": true,
    "slideshow": {
     "slide_type": ""
    },
    "tags": []
   },
   "outputs": [],
   "source": [
    "from phi.utils.pprint import pprint_run_response\n",
    "\n",
    "response:RunResponse = run_agent(agent_id='us_biotech')\n",
    "pprint_run_response(response)"
   ]
  },
  {
   "cell_type": "code",
   "execution_count": null,
   "id": "ea1b5d04-61e1-47d0-a557-95e92ef4d0df",
   "metadata": {},
   "outputs": [],
   "source": []
  }
 ],
 "metadata": {
  "kernelspec": {
   "display_name": "Python 3 (ipykernel)",
   "language": "python",
   "name": "python3"
  },
  "language_info": {
   "codemirror_mode": {
    "name": "ipython",
    "version": 3
   },
   "file_extension": ".py",
   "mimetype": "text/x-python",
   "name": "python",
   "nbconvert_exporter": "python",
   "pygments_lexer": "ipython3",
   "version": "3.13.5"
  }
 },
 "nbformat": 4,
 "nbformat_minor": 5
}
