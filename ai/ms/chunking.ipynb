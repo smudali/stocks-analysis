{
 "cells": [
  {
   "cell_type": "code",
   "execution_count": 1,
   "id": "9364bd50-7d2a-4c81-8c21-9064acd3dece",
   "metadata": {},
   "outputs": [],
   "source": [
    "import sys\n",
    "# !{sys.executable} -m pip install --upgrade pip\n",
    "# !{sys.executable} -m pip install --upgrade yfinance\n",
    "# !{sys.executable} -m pip install langchain-text-splitters\n",
    "# !{sys.executable} -m pip install langchain-pull-md\n",
    "# !{sys.executable} -m pip install --upgrade phidata"
   ]
  },
  {
   "cell_type": "code",
   "execution_count": 2,
   "id": "e5eacc15-63eb-4079-9163-64006d79019a",
   "metadata": {},
   "outputs": [],
   "source": [
    "import datetime\n",
    "from datetime import date\n",
    "\n",
    "# Headings to search in the article; map them to their correspoding field names\n",
    "heading_to_field = {}\n",
    "heading_to_field['Morningstar Price/Fair Value'] = 'price_fair_ratio'\n",
    "heading_to_field['Morningstar Uncertainty Rating'] = 'uncertainity_rating'\n",
    "heading_to_field['Morningstar Economic Moat Rating'] = 'moat_rating'\n",
    "heading_to_field[' '] = 'fwd_dividend_yield'\n",
    "heading_to_field['Sector'] = 'sector'\n",
    "\n",
    "ARTICLE_URL = 'https://www.morningstar.com.au/stocks/10-best-us-dividend-aristocrats-buy-nowincluding-surprise-outperformer?user_segment=indinv'\n",
    "# Data date - valid as at this date '2025-07-25'\n",
    "DATA_DATE = datetime.date(2025, 7, 25)\n",
    "# Today's date to calculate today's tock price\n",
    "TODAY_DATE = date.today()"
   ]
  },
  {
   "cell_type": "markdown",
   "id": "d8c6e358-a8b7-4733-a275-d44cc52859f1",
   "metadata": {},
   "source": [
    "## Split the article based on H2"
   ]
  },
  {
   "cell_type": "code",
   "execution_count": 3,
   "id": "91e0c61b-9cc2-4523-91e7-1e0e0f5fa7ed",
   "metadata": {},
   "outputs": [],
   "source": [
    "from langchain_pull_md import PullMdLoader\n",
    "from langchain_text_splitters import MarkdownHeaderTextSplitter\n",
    "\n",
    "def get_document_chunks():\n",
    "    # Initialize the loader with the desired URL\n",
    "    loader = PullMdLoader(url=ARTICLE_URL)\n",
    "    # Load the content, which will be converted to Markdown\n",
    "    documents = loader.load()\n",
    "    # Headers to do the splitting\n",
    "    headers_to_split_on = [(\"##\", \"Header 2\")]\n",
    "    md_splitter = MarkdownHeaderTextSplitter(headers_to_split_on)\n",
    "    return md_splitter.split_text(documents[0].page_content)"
   ]
  },
  {
   "cell_type": "code",
   "execution_count": 4,
   "id": "0cace487-5cff-4e19-bd15-75196674fd15",
   "metadata": {},
   "outputs": [],
   "source": [
    "# Convert the URL into document checkins based on Heading Level 2\n",
    "document_chunks = get_document_chunks()"
   ]
  },
  {
   "cell_type": "markdown",
   "id": "31d73c0a-866f-4dee-95d1-146d2bc91902",
   "metadata": {},
   "source": [
    "## Chunk 2 contains company names and ticker symbols"
   ]
  },
  {
   "cell_type": "code",
   "execution_count": 5,
   "id": "6c7047c9-83c3-450a-b00b-38731570784f",
   "metadata": {},
   "outputs": [
    {
     "data": {
      "text/plain": [
       "[{'name': 'Becton Dickinson', 'sym': 'BDX', 'alias': ''},\n",
       " {'name': 'Brown-Forman', 'sym': 'BF.B', 'alias': ''},\n",
       " {'name': 'Clorox', 'sym': 'CLX', 'alias': ''},\n",
       " {'name': 'ExxonMobil', 'sym': 'XOM', 'alias': ''},\n",
       " {'name': 'Medtronic', 'sym': 'MDT', 'alias': ''},\n",
       " {'name': 'West Pharmaceutical Services', 'sym': 'WST', 'alias': ''},\n",
       " {'name': 'Amcor', 'sym': 'AMCR', 'alias': ''},\n",
       " {'name': 'PepsiCo', 'sym': 'PEP', 'alias': ''},\n",
       " {'name': 'Nordson', 'sym': 'NDSN', 'alias': ''},\n",
       " {'name': 'Kimberly-Clark', 'sym': 'KMB', 'alias': ''}]"
      ]
     },
     "execution_count": 5,
     "metadata": {},
     "output_type": "execute_result"
    }
   ],
   "source": [
    "# For pattern matching\n",
    "import re\n",
    "\n",
    "# Pattern to extract comp name and symbol\n",
    "pattern = r'^\\d+\\.\\s*(.*)\\s+([A-Z.]+)'\n",
    "# Chunk #2 contains company names and symbols\n",
    "# Skip the first and the last lines as they don't contain stock data\n",
    "matches = [re.search(pattern, x) for x in document_chunks[2].page_content.splitlines()[1:-1]]\n",
    "# Split into key value pair\n",
    "name_to_symbol = {match.group(1):match.group(2) for match in matches if match}\n",
    "stocks = [{'name':key, 'sym':value, 'alias':''} for key,value in name_to_symbol.items()]\n",
    "stocks"
   ]
  },
  {
   "cell_type": "markdown",
   "id": "2ccdae75-3bb3-4e29-8bbe-9c8037ece4fd",
   "metadata": {},
   "source": [
    "## Adjustments"
   ]
  },
  {
   "cell_type": "code",
   "execution_count": 6,
   "id": "6ab01ab4-d0d3-43b7-8f23-b0e42ea442ef",
   "metadata": {
    "scrolled": true
   },
   "outputs": [
    {
     "data": {
      "text/plain": [
       "[{'name': 'Becton Dickinson', 'sym': 'BDX', 'alias': ''},\n",
       " {'name': 'Brown-Forman', 'sym': 'BF-B', 'alias': ''},\n",
       " {'name': 'Clorox', 'sym': 'CLX', 'alias': ''},\n",
       " {'name': 'ExxonMobil', 'sym': 'XOM', 'alias': ''},\n",
       " {'name': 'Medtronic', 'sym': 'MDT', 'alias': ''},\n",
       " {'name': 'West Pharmaceutical Services',\n",
       "  'sym': 'WST',\n",
       "  'alias': 'West Pharmaceutical'},\n",
       " {'name': 'Amcor', 'sym': 'AMCR', 'alias': ''},\n",
       " {'name': 'PepsiCo', 'sym': 'PEP', 'alias': ''},\n",
       " {'name': 'Nordson', 'sym': 'NDSN', 'alias': ''},\n",
       " {'name': 'Kimberly-Clark', 'sym': 'KMB', 'alias': ''}]"
      ]
     },
     "execution_count": 6,
     "metadata": {},
     "output_type": "execute_result"
    }
   ],
   "source": [
    "pos = [idx for idx, x in enumerate(stocks) if x['name'] == 'West Pharmaceutical Services'][0]\n",
    "stocks[pos] = stocks[pos] | {'alias':'West Pharmaceutical'}\n",
    "\n",
    "# Search for BF.B symbol, YF listed as BF-B\n",
    "try:\n",
    "    pos = [idx for idx, x in enumerate(stocks) if x['sym'] == 'BF.B'][0]\n",
    "    stocks[pos]['sym'] = 'BF-B'\n",
    "except:\n",
    "    # Error raised when invoking again\n",
    "    pass\n",
    "stocks"
   ]
  },
  {
   "cell_type": "markdown",
   "id": "80fd9899-fc48-45d0-9f9f-5199ce1546b0",
   "metadata": {},
   "source": [
    "## To capture Agent response"
   ]
  },
  {
   "cell_type": "code",
   "execution_count": 7,
   "id": "bf8451bf-5950-4704-a0a9-ccd28e3eb342",
   "metadata": {},
   "outputs": [],
   "source": [
    "from pydantic import BaseModel, Field\n",
    "\n",
    "# Model class for a agent response; used in capturing the response from the LLM\n",
    "class AgentResponse(BaseModel):\n",
    "    fair_value: float = Field(..., description='Fair value of the stock')\n",
    "    summary: str = Field(..., description='Summary of the stock')"
   ]
  },
  {
   "cell_type": "markdown",
   "id": "e5af5f04-a02c-433a-a6a0-3ae86695bd0d",
   "metadata": {},
   "source": [
    "## Create an Agent"
   ]
  },
  {
   "cell_type": "code",
   "execution_count": 8,
   "id": "e0d3dcfe-0b3a-47ab-95f1-67ac24530b1f",
   "metadata": {},
   "outputs": [],
   "source": [
    "from phi.agent import Agent\n",
    "from phi.model.groq import Groq\n",
    "\n",
    "instructions = [\n",
    "    \"Summarize the user text under 200 characters and save it under the summary field\",\n",
    "    \"Only extract the fair value from the user text and save it to the fair_value field\",\n",
    "    \"If you can't find fair value, return 0\"\n",
    "]\n",
    "\n",
    "agent = Agent(\n",
    "    name='Stock Analyst',\n",
    "    role='You are an expert in summarizing company data from user input',\n",
    "    model=Groq(id='llama3-8b-8192'),\n",
    "    instructions=instructions,\n",
    "    markdown=True,\n",
    "    show_tool_calls=True,\n",
    "    # debug_mode=True,\n",
    "    response_model=AgentResponse,\n",
    "    response_format={'type': 'json_object'}\n",
    ")"
   ]
  },
  {
   "cell_type": "markdown",
   "id": "b97ed905-3900-4a2c-acfb-f81efab86175",
   "metadata": {},
   "source": [
    "## Get Stock Price"
   ]
  },
  {
   "cell_type": "code",
   "execution_count": 9,
   "id": "07255ed1-fcd1-4efa-bfdf-6c9371712cc4",
   "metadata": {},
   "outputs": [],
   "source": [
    "# from datetime import datetime\n",
    "import datetime\n",
    "import yfinance as yf\n",
    "\n",
    "def get_stock_price(symbol:str, target_date:datetime.time) -> float:\n",
    "    # # Pick the start date or as close as to the start date\n",
    "    # return float(data.iloc[0,0])\n",
    "    \n",
    "    # We'll go back a few days to be safe\n",
    "    start_date = target_date - datetime.timedelta(days=7)\n",
    "    # Also add 1 more date to the target to get the end date inclusive of target\n",
    "    end_date = target_date + datetime.timedelta(days=1)\n",
    "    # Fetch the data for the date range\n",
    "    data = yf.download(symbol, start=start_date, end=end_date, auto_adjust=True)['Close']\n",
    "    \n",
    "    # Check if the dataframe is not empty\n",
    "    if not data.empty:\n",
    "        # Get the last available close price from the DataFrame\n",
    "        # This will be the price from the most recent trading day\n",
    "        closest_price = float(data.iloc[-1,0])\n",
    "        last_trading_date = data.index[-1].date()\n",
    "        # Commmented - debuggging only\n",
    "        # print(f\"The closest available closing price for {symbol} on {target_date} was:\")\n",
    "        # print(f\"Price: {closest_price:.2f} (from the last trading day, {last_trading_date})\")\n",
    "        return closest_price\n",
    "    else:\n",
    "        raise ValueError(f'No data found for the specified period')"
   ]
  },
  {
   "cell_type": "code",
   "execution_count": 10,
   "id": "2ec0754a-6f44-4d47-9dce-0be1e174b587",
   "metadata": {},
   "outputs": [],
   "source": [
    "# get_stock_price(symbol='BF-B', target_date=TODAY_DATE)"
   ]
  },
  {
   "cell_type": "markdown",
   "id": "a15f1c26-bc91-48c0-a58e-98e2182d06aa",
   "metadata": {},
   "source": [
    "## Extract stock data"
   ]
  },
  {
   "cell_type": "code",
   "execution_count": 11,
   "id": "7d55acb3-eb16-4178-bb5d-e4e2c726f75d",
   "metadata": {},
   "outputs": [],
   "source": [
    "def extract_stock_data(contents:str, sym:str) -> dict[str, str]:\n",
    "    # Split into lines\n",
    "    lines = contents.splitlines()\n",
    "    # Fields we can extract are in the first 5 rows, extract 5 rows\n",
    "    data_raw = [(x.strip().split(':')) for x in lines[0:5]]\n",
    "    # Remove '* ' and other spaces from each\n",
    "    data_cleansed = [(x[0].strip('* '), x[1].strip()) for x in data_raw]\n",
    "    # Get the corresponding field names and the values for them\n",
    "    y = [(heading_to_field[x[0]], x[1]) for x in data_cleansed if x[0] in heading_to_field.keys()]\n",
    "    # Convert this to a dictionary with fields and values to append to an existing stock\n",
    "    new_stock_data = {key:value for key,value in y}\n",
    "    \n",
    "    # The rest is the agent input; join with new line\n",
    "    agent_input = '\\n'.join(lines[5:])\n",
    "    # Run the agent and save the response\n",
    "    agent_resp: AgentResponse = agent.run(agent_input).content\n",
    "    new_stock_data['fair_value'] = agent_resp.fair_value\n",
    "\n",
    "    # Try to workout the fair price if the agent can't extract from text\n",
    "    if new_stock_data['fair_value'] == 0:\n",
    "        # Get the stock price for the data date (found in the article)\n",
    "        stock_price = get_stock_price(symbol=sym, target_date=DATA_DATE)\n",
    "        # Can be negative if over priced\n",
    "        discount = 1 - float(new_stock_data['price_fair_ratio'])\n",
    "        # Apply discount to the current stock price to get the new fair price\n",
    "        new_stock_data['fair_value'] = round(stock_price + discount * stock_price, 2)\n",
    "\n",
    "    # Suummary of the company from the article\n",
    "    new_stock_data['summary'] = agent_resp.summary\n",
    "\n",
    "    # Current stock price\n",
    "    new_stock_data['current_price'] = round(get_stock_price(symbol=sym, target_date=TODAY_DATE), 2)\n",
    "\n",
    "    # Replace the price to fair ratio with the current price\n",
    "    new_stock_data['price_fair_ratio'] = round(new_stock_data['current_price']/new_stock_data['fair_value'], 2)\n",
    "    \n",
    "    # Return the new dictionary with new additions\n",
    "    return new_stock_data"
   ]
  },
  {
   "cell_type": "markdown",
   "id": "bbaf68e0-56c0-40d9-bcd4-5ed6f9aaf052",
   "metadata": {},
   "source": [
    "## Load API Keys"
   ]
  },
  {
   "cell_type": "code",
   "execution_count": 12,
   "id": "5ea7ec24-6232-4e5f-88ed-5dcd4b3f1185",
   "metadata": {},
   "outputs": [
    {
     "data": {
      "text/plain": [
       "True"
      ]
     },
     "execution_count": 12,
     "metadata": {},
     "output_type": "execute_result"
    }
   ],
   "source": [
    "# To read environment property file\n",
    "from dotenv import load_dotenv\n",
    "# Load environment variables from .env file\n",
    "load_dotenv()"
   ]
  },
  {
   "cell_type": "markdown",
   "id": "7a83befa-902b-4af4-95aa-6a24051d5ecb",
   "metadata": {},
   "source": [
    "## Populate Stocks with data"
   ]
  },
  {
   "cell_type": "code",
   "execution_count": 13,
   "id": "60f45276-91c1-464f-b5e8-24fea38787b8",
   "metadata": {},
   "outputs": [
    {
     "name": "stderr",
     "output_type": "stream",
     "text": [
      "[*********************100%***********************]  1 of 1 completed\n",
      "[*********************100%***********************]  1 of 1 completed\n",
      "[*********************100%***********************]  1 of 1 completed\n",
      "[*********************100%***********************]  1 of 1 completed\n",
      "[*********************100%***********************]  1 of 1 completed\n",
      "[*********************100%***********************]  1 of 1 completed\n",
      "[*********************100%***********************]  1 of 1 completed\n",
      "[*********************100%***********************]  1 of 1 completed\n",
      "[*********************100%***********************]  1 of 1 completed\n",
      "[*********************100%***********************]  1 of 1 completed\n",
      "[*********************100%***********************]  1 of 1 completed\n"
     ]
    }
   ],
   "source": [
    "# need this to add delay to processing\n",
    "import time\n",
    "\n",
    "# We can start with row 3\n",
    "start_row = 3\n",
    "end_row = start_row + len(stocks)\n",
    "# Loop through each stock\n",
    "for doc in document_chunks[start_row:end_row]:\n",
    "    # Name of the stock to search\n",
    "    name = doc.metadata['Header 2']\n",
    "    # Search for the stock using the header 2 against name or alias\n",
    "    result = [idx for idx, x in enumerate(stocks) if name == x['name'] or name == x['alias']]\n",
    "    # Must have a stock to continue\n",
    "    if not result:\n",
    "        # Continue with the next item\n",
    "        continue\n",
    "    # The position in the stocks array - place holder\n",
    "    pos = result[0]\n",
    "    # Extract stock data\n",
    "    stk = extract_stock_data(contents=doc.page_content, sym=stocks[pos]['sym'])\n",
    "    # Update the stock\n",
    "    stocks[pos] = stocks[pos] | stk\n",
    "    # Pause for 5 seconds\n",
    "    time.sleep(5)\n",
    "# stocks"
   ]
  },
  {
   "cell_type": "code",
   "execution_count": 20,
   "id": "97876368-e717-446f-a9cf-a13ab9632113",
   "metadata": {},
   "outputs": [],
   "source": [
    "# import json\n",
    "\n",
    "# with open(\"output.json\", \"w\") as json_file:v\n",
    "#     json.dump(stocks, json_file, indent=4)"
   ]
  },
  {
   "cell_type": "markdown",
   "id": "a405c7dc-b10c-40a2-9d10-47f90b2d2fac",
   "metadata": {},
   "source": [
    "## Utility methods to get formats and styles"
   ]
  },
  {
   "cell_type": "code",
   "execution_count": 15,
   "id": "4f1776c9-058c-483a-86b7-c90f0edda98c",
   "metadata": {},
   "outputs": [],
   "source": [
    "def get_headers(theme:str) -> tuple[str, str]:\n",
    "    if 'blue' == theme:\n",
    "        return ('[bright_cyan]', '[bold deep_sky_blue1]')\n",
    "    elif 'green' == theme:\n",
    "        return ('[green1]', '[spring_green3]')\n",
    "    return ('', '')\n",
    "\n",
    "def get_styles(theme:str) -> tuple[str, str, str]:\n",
    "    if 'blue' == theme:\n",
    "        return ('bold deep_sky_blue4', 'sky_blue3', 'steel_blue')\n",
    "    elif 'green' == theme:\n",
    "        return ('green4', 'green3', 'spring_green4')\n",
    "    return ('', '', '')"
   ]
  },
  {
   "cell_type": "code",
   "execution_count": 16,
   "id": "f253cd77-a919-4afc-bffc-5e00f6bc884e",
   "metadata": {},
   "outputs": [],
   "source": [
    "from rich.table import Table\n",
    "from rich import box\n",
    "\n",
    "def create_table(stock:dict, header_style:str, border_style:str, row_style:str) -> Table:\n",
    "    table = Table(show_header=True, header_style=header_style, show_lines=True,\n",
    "                  expand=True, box=box.ROUNDED, border_style=border_style)\n",
    "    table.add_column('Name', justify='left')\n",
    "    table.add_column('Ticker', justify='left')\n",
    "    table.add_column('Uncertainty Rating', justify='left')\n",
    "    table.add_column('Moat Rating', justify='left')\n",
    "    table.add_column('Fwd Div Yield', justify='left')\n",
    "    table.add_column('Sector', justify='left')\n",
    "    table.add_column('Fair Value', justify='right')\n",
    "    table.add_column('Price', justify='right')\n",
    "    table.add_column('Price / Fair Ratio', justify='right')\n",
    "\n",
    "    row = [x for x in stock.values()]\n",
    "    table.add_row(row[0], row[1], row[4], row[5], row[6], row[7], str(row[8]), str(row[10]), str(row[3]), style=row_style)\n",
    "    return table"
   ]
  },
  {
   "cell_type": "code",
   "execution_count": 17,
   "id": "29e27ff6-572f-4656-b091-a293556c1148",
   "metadata": {},
   "outputs": [],
   "source": [
    "# create_table(stocks[0], header_style=table_style, border_style=panel_style, row_style=row_style)"
   ]
  },
  {
   "cell_type": "code",
   "execution_count": 31,
   "id": "ac7014a3-efc9-405a-ad2c-9aa2f9490ace",
   "metadata": {},
   "outputs": [
    {
     "data": {
      "text/html": [
       "<pre style=\"white-space:pre;overflow-x:auto;line-height:normal;font-family:Menlo,'DejaVu Sans Mono',consolas,'Courier New',monospace\">╭─────────────────────────── <span style=\"color: #00ff00; text-decoration-color: #00ff00\">Morningstar 10 Best US dividend Aristocrats @ 2025-08-12</span> ────────────────────────────╮\n",
       "│                                                                                                                 │\n",
       "╰─────────────────────────────────────────────────────────────────────────────────────────────────────────────────╯\n",
       "<span style=\"color: #00875f; text-decoration-color: #00875f\">╭─────────────────────────────────────────────────</span> <span style=\"color: #00d75f; text-decoration-color: #00d75f\">Nordson-NDSN</span> <span style=\"color: #00875f; text-decoration-color: #00875f\">──────────────────────────────────────────────────╮</span>\n",
       "<span style=\"color: #00875f; text-decoration-color: #00875f\">│                                                                                                                 │</span>\n",
       "<span style=\"color: #00875f; text-decoration-color: #00875f\">│ ╭─────────┬────────┬─────────────┬─────────────┬─────────────┬─────────────┬────────────┬────────┬────────────╮ │</span>\n",
       "<span style=\"color: #00875f; text-decoration-color: #00875f\">│ │</span><span style=\"color: #008700; text-decoration-color: #008700\">         </span><span style=\"color: #00875f; text-decoration-color: #00875f\">│</span><span style=\"color: #008700; text-decoration-color: #008700\">        </span><span style=\"color: #00875f; text-decoration-color: #00875f\">│</span><span style=\"color: #008700; text-decoration-color: #008700\"> Uncertainty </span><span style=\"color: #00875f; text-decoration-color: #00875f\">│</span><span style=\"color: #008700; text-decoration-color: #008700\">             </span><span style=\"color: #00875f; text-decoration-color: #00875f\">│</span><span style=\"color: #008700; text-decoration-color: #008700\"> Fwd Div     </span><span style=\"color: #00875f; text-decoration-color: #00875f\">│</span><span style=\"color: #008700; text-decoration-color: #008700\">             </span><span style=\"color: #00875f; text-decoration-color: #00875f\">│</span><span style=\"color: #008700; text-decoration-color: #008700\">            </span><span style=\"color: #00875f; text-decoration-color: #00875f\">│</span><span style=\"color: #008700; text-decoration-color: #008700\">        </span><span style=\"color: #00875f; text-decoration-color: #00875f\">│</span><span style=\"color: #008700; text-decoration-color: #008700\">    Price / </span><span style=\"color: #00875f; text-decoration-color: #00875f\">│ │</span>\n",
       "<span style=\"color: #00875f; text-decoration-color: #00875f\">│ │</span><span style=\"color: #008700; text-decoration-color: #008700\"> Name    </span><span style=\"color: #00875f; text-decoration-color: #00875f\">│</span><span style=\"color: #008700; text-decoration-color: #008700\"> Ticker </span><span style=\"color: #00875f; text-decoration-color: #00875f\">│</span><span style=\"color: #008700; text-decoration-color: #008700\"> Rating      </span><span style=\"color: #00875f; text-decoration-color: #00875f\">│</span><span style=\"color: #008700; text-decoration-color: #008700\"> Moat Rating </span><span style=\"color: #00875f; text-decoration-color: #00875f\">│</span><span style=\"color: #008700; text-decoration-color: #008700\"> Yield       </span><span style=\"color: #00875f; text-decoration-color: #00875f\">│</span><span style=\"color: #008700; text-decoration-color: #008700\"> Sector      </span><span style=\"color: #00875f; text-decoration-color: #00875f\">│</span><span style=\"color: #008700; text-decoration-color: #008700\"> Fair Value </span><span style=\"color: #00875f; text-decoration-color: #00875f\">│</span><span style=\"color: #008700; text-decoration-color: #008700\">  Price </span><span style=\"color: #00875f; text-decoration-color: #00875f\">│</span><span style=\"color: #008700; text-decoration-color: #008700\"> Fair Ratio </span><span style=\"color: #00875f; text-decoration-color: #00875f\">│ │</span>\n",
       "<span style=\"color: #00875f; text-decoration-color: #00875f\">│ ├─────────┼────────┼─────────────┼─────────────┼─────────────┼─────────────┼────────────┼────────┼────────────┤ │</span>\n",
       "<span style=\"color: #00875f; text-decoration-color: #00875f\">│ │</span><span style=\"color: #00d700; text-decoration-color: #00d700\"> Nordson </span><span style=\"color: #00875f; text-decoration-color: #00875f\">│</span><span style=\"color: #00d700; text-decoration-color: #00d700\"> NDSN   </span><span style=\"color: #00875f; text-decoration-color: #00875f\">│</span><span style=\"color: #00d700; text-decoration-color: #00d700\"> Medium      </span><span style=\"color: #00875f; text-decoration-color: #00875f\">│</span><span style=\"color: #00d700; text-decoration-color: #00d700\"> Wide        </span><span style=\"color: #00875f; text-decoration-color: #00875f\">│</span><span style=\"color: #00d700; text-decoration-color: #00d700\"> 1.41%       </span><span style=\"color: #00875f; text-decoration-color: #00875f\">│</span><span style=\"color: #00d700; text-decoration-color: #00d700\"> Industrials </span><span style=\"color: #00875f; text-decoration-color: #00875f\">│</span><span style=\"color: #00d700; text-decoration-color: #00d700\">      249.0 </span><span style=\"color: #00875f; text-decoration-color: #00875f\">│</span><span style=\"color: #00d700; text-decoration-color: #00d700\"> 210.61 </span><span style=\"color: #00875f; text-decoration-color: #00875f\">│</span><span style=\"color: #00d700; text-decoration-color: #00d700\">       0.85 </span><span style=\"color: #00875f; text-decoration-color: #00875f\">│ │</span>\n",
       "<span style=\"color: #00875f; text-decoration-color: #00875f\">│ ╰─────────┴────────┴─────────────┴─────────────┴─────────────┴─────────────┴────────────┴────────┴────────────╯ │</span>\n",
       "<span style=\"color: #00875f; text-decoration-color: #00875f\">│ ╭────────────────────────────────────────────────── </span><span style=\"color: #00d75f; text-decoration-color: #00d75f\">Summary</span><span style=\"color: #00875f; text-decoration-color: #00875f\"> ──────────────────────────────────────────────────╮ │</span>\n",
       "<span style=\"color: #00875f; text-decoration-color: #00875f\">│ │                                                                                                             │ │</span>\n",
       "<span style=\"color: #00875f; text-decoration-color: #00875f\">│ │ Nordson stock trades 11% below fair value with a high economic moat rating. The company is a leading        │ │</span>\n",
       "<span style=\"color: #00875f; text-decoration-color: #00875f\">│ │ manufacturer of equipment used for dispensing adhesives, coatings, and other materials, and prioritizes     │ │</span>\n",
       "<span style=\"color: #00875f; text-decoration-color: #00875f\">│ │ growing its dividend.                                                                                       │ │</span>\n",
       "<span style=\"color: #00875f; text-decoration-color: #00875f\">│ │                                                                                                             │ │</span>\n",
       "<span style=\"color: #00875f; text-decoration-color: #00875f\">│ ╰─────────────────────────────────────────────────────────────────────────────────────────────────────────────╯ │</span>\n",
       "<span style=\"color: #00875f; text-decoration-color: #00875f\">│                                                                                                                 │</span>\n",
       "<span style=\"color: #00875f; text-decoration-color: #00875f\">╰─────────────────────────────────────────────────────────────────────────────────────────────────────────────────╯</span>\n",
       "<span style=\"color: #00875f; text-decoration-color: #00875f\">╭──────────────────────────────────────────────</span> <span style=\"color: #00d75f; text-decoration-color: #00d75f\">Kimberly-Clark-KMB</span> <span style=\"color: #00875f; text-decoration-color: #00875f\">───────────────────────────────────────────────╮</span>\n",
       "<span style=\"color: #00875f; text-decoration-color: #00875f\">│                                                                                                                 │</span>\n",
       "<span style=\"color: #00875f; text-decoration-color: #00875f\">│ ╭────────────┬────────┬────────────┬────────────┬────────────┬─────────────┬────────────┬────────┬────────────╮ │</span>\n",
       "<span style=\"color: #00875f; text-decoration-color: #00875f\">│ │</span><span style=\"color: #008700; text-decoration-color: #008700\">            </span><span style=\"color: #00875f; text-decoration-color: #00875f\">│</span><span style=\"color: #008700; text-decoration-color: #008700\">        </span><span style=\"color: #00875f; text-decoration-color: #00875f\">│</span><span style=\"color: #008700; text-decoration-color: #008700\"> Uncertain… </span><span style=\"color: #00875f; text-decoration-color: #00875f\">│</span><span style=\"color: #008700; text-decoration-color: #008700\"> Moat       </span><span style=\"color: #00875f; text-decoration-color: #00875f\">│</span><span style=\"color: #008700; text-decoration-color: #008700\"> Fwd Div    </span><span style=\"color: #00875f; text-decoration-color: #00875f\">│</span><span style=\"color: #008700; text-decoration-color: #008700\">             </span><span style=\"color: #00875f; text-decoration-color: #00875f\">│</span><span style=\"color: #008700; text-decoration-color: #008700\">            </span><span style=\"color: #00875f; text-decoration-color: #00875f\">│</span><span style=\"color: #008700; text-decoration-color: #008700\">        </span><span style=\"color: #00875f; text-decoration-color: #00875f\">│</span><span style=\"color: #008700; text-decoration-color: #008700\">    Price / </span><span style=\"color: #00875f; text-decoration-color: #00875f\">│ │</span>\n",
       "<span style=\"color: #00875f; text-decoration-color: #00875f\">│ │</span><span style=\"color: #008700; text-decoration-color: #008700\"> Name       </span><span style=\"color: #00875f; text-decoration-color: #00875f\">│</span><span style=\"color: #008700; text-decoration-color: #008700\"> Ticker </span><span style=\"color: #00875f; text-decoration-color: #00875f\">│</span><span style=\"color: #008700; text-decoration-color: #008700\"> Rating     </span><span style=\"color: #00875f; text-decoration-color: #00875f\">│</span><span style=\"color: #008700; text-decoration-color: #008700\"> Rating     </span><span style=\"color: #00875f; text-decoration-color: #00875f\">│</span><span style=\"color: #008700; text-decoration-color: #008700\"> Yield      </span><span style=\"color: #00875f; text-decoration-color: #00875f\">│</span><span style=\"color: #008700; text-decoration-color: #008700\"> Sector      </span><span style=\"color: #00875f; text-decoration-color: #00875f\">│</span><span style=\"color: #008700; text-decoration-color: #008700\"> Fair Value </span><span style=\"color: #00875f; text-decoration-color: #00875f\">│</span><span style=\"color: #008700; text-decoration-color: #008700\">  Price </span><span style=\"color: #00875f; text-decoration-color: #00875f\">│</span><span style=\"color: #008700; text-decoration-color: #008700\"> Fair Ratio </span><span style=\"color: #00875f; text-decoration-color: #00875f\">│ │</span>\n",
       "<span style=\"color: #00875f; text-decoration-color: #00875f\">│ ├────────────┼────────┼────────────┼────────────┼────────────┼─────────────┼────────────┼────────┼────────────┤ │</span>\n",
       "<span style=\"color: #00875f; text-decoration-color: #00875f\">│ │</span><span style=\"color: #00d700; text-decoration-color: #00d700\"> Kimberly-… </span><span style=\"color: #00875f; text-decoration-color: #00875f\">│</span><span style=\"color: #00d700; text-decoration-color: #00d700\"> KMB    </span><span style=\"color: #00875f; text-decoration-color: #00875f\">│</span><span style=\"color: #00d700; text-decoration-color: #00d700\"> Medium     </span><span style=\"color: #00875f; text-decoration-color: #00875f\">│</span><span style=\"color: #00d700; text-decoration-color: #00d700\"> Narrow     </span><span style=\"color: #00875f; text-decoration-color: #00875f\">│</span><span style=\"color: #00d700; text-decoration-color: #00d700\"> 3.96%      </span><span style=\"color: #00875f; text-decoration-color: #00875f\">│</span><span style=\"color: #00d700; text-decoration-color: #00d700\"> Consumer    </span><span style=\"color: #00875f; text-decoration-color: #00875f\">│</span><span style=\"color: #00d700; text-decoration-color: #00d700\">     138.84 </span><span style=\"color: #00875f; text-decoration-color: #00875f\">│</span><span style=\"color: #00d700; text-decoration-color: #00d700\"> 134.15 </span><span style=\"color: #00875f; text-decoration-color: #00875f\">│</span><span style=\"color: #00d700; text-decoration-color: #00d700\">       0.97 </span><span style=\"color: #00875f; text-decoration-color: #00875f\">│ │</span>\n",
       "<span style=\"color: #00875f; text-decoration-color: #00875f\">│ │</span><span style=\"color: #00d700; text-decoration-color: #00d700\">            </span><span style=\"color: #00875f; text-decoration-color: #00875f\">│</span><span style=\"color: #00d700; text-decoration-color: #00d700\">        </span><span style=\"color: #00875f; text-decoration-color: #00875f\">│</span><span style=\"color: #00d700; text-decoration-color: #00d700\">            </span><span style=\"color: #00875f; text-decoration-color: #00875f\">│</span><span style=\"color: #00d700; text-decoration-color: #00d700\">            </span><span style=\"color: #00875f; text-decoration-color: #00875f\">│</span><span style=\"color: #00d700; text-decoration-color: #00d700\">            </span><span style=\"color: #00875f; text-decoration-color: #00875f\">│</span><span style=\"color: #00d700; text-decoration-color: #00d700\"> Defensive   </span><span style=\"color: #00875f; text-decoration-color: #00875f\">│</span><span style=\"color: #00d700; text-decoration-color: #00d700\">            </span><span style=\"color: #00875f; text-decoration-color: #00875f\">│</span><span style=\"color: #00d700; text-decoration-color: #00d700\">        </span><span style=\"color: #00875f; text-decoration-color: #00875f\">│</span><span style=\"color: #00d700; text-decoration-color: #00d700\">            </span><span style=\"color: #00875f; text-decoration-color: #00875f\">│ │</span>\n",
       "<span style=\"color: #00875f; text-decoration-color: #00875f\">│ ╰────────────┴────────┴────────────┴────────────┴────────────┴─────────────┴────────────┴────────┴────────────╯ │</span>\n",
       "<span style=\"color: #00875f; text-decoration-color: #00875f\">│ ╭────────────────────────────────────────────────── </span><span style=\"color: #00d75f; text-decoration-color: #00d75f\">Summary</span><span style=\"color: #00875f; text-decoration-color: #00875f\"> ──────────────────────────────────────────────────╮ │</span>\n",
       "<span style=\"color: #00875f; text-decoration-color: #00875f\">│ │                                                                                                             │ │</span>\n",
       "<span style=\"color: #00875f; text-decoration-color: #00875f\">│ │ Summary of Kimberly-Clark's stock, highlighting its narrow moat, billion-dollar brands, and long-term       │ │</span>\n",
       "<span style=\"color: #00875f; text-decoration-color: #00875f\">│ │ dividend growth expectations, as well as its focus on innovation, marketing, and product development.       │ │</span>\n",
       "<span style=\"color: #00875f; text-decoration-color: #00875f\">│ │                                                                                                             │ │</span>\n",
       "<span style=\"color: #00875f; text-decoration-color: #00875f\">│ ╰─────────────────────────────────────────────────────────────────────────────────────────────────────────────╯ │</span>\n",
       "<span style=\"color: #00875f; text-decoration-color: #00875f\">│                                                                                                                 │</span>\n",
       "<span style=\"color: #00875f; text-decoration-color: #00875f\">╰─────────────────────────────────────────────────────────────────────────────────────────────────────────────────╯</span>\n",
       "╭──────────────────────────────────────────────────── <span style=\"color: #00d75f; text-decoration-color: #00d75f\">Footer</span> ─────────────────────────────────────────────────────╮\n",
       "│                                                                                                                 │\n",
       "│ Article: <a href=\"https://www.morningstar.com.au/stocks/10-best-us-dividend-aristocrats-buy-nowincluding-surprise-outperformer?user_segment=indinv\" target=\"_blank\">10 best US dividend aristocrats to buy now—including a surprise outperformer</a>                           │\n",
       "│                                                                                                                 │\n",
       "╰─────────────────────────────────────────────────────────────────────────────────────────────────────────────────╯\n",
       "</pre>\n"
      ],
      "text/plain": [
       "╭─────────────────────────── \u001b[38;5;46mMorningstar 10 Best US dividend Aristocrats @ 2025-08-12\u001b[0m ────────────────────────────╮\n",
       "│                                                                                                                 │\n",
       "╰─────────────────────────────────────────────────────────────────────────────────────────────────────────────────╯\n",
       "\u001b[38;5;29m╭─\u001b[0m\u001b[38;5;29m────────────────────────────────────────────────\u001b[0m \u001b[38;5;41mNordson-NDSN\u001b[0m \u001b[38;5;29m─────────────────────────────────────────────────\u001b[0m\u001b[38;5;29m─╮\u001b[0m\n",
       "\u001b[38;5;29m│\u001b[0m\u001b[38;5;29m                                                                                                                 \u001b[0m\u001b[38;5;29m│\u001b[0m\n",
       "\u001b[38;5;29m│\u001b[0m\u001b[38;5;29m \u001b[0m\u001b[38;5;29m╭─────────┬────────┬─────────────┬─────────────┬─────────────┬─────────────┬────────────┬────────┬────────────╮\u001b[0m\u001b[38;5;29m \u001b[0m\u001b[38;5;29m│\u001b[0m\n",
       "\u001b[38;5;29m│\u001b[0m\u001b[38;5;29m \u001b[0m\u001b[38;5;29m│\u001b[0m\u001b[38;5;28m         \u001b[0m\u001b[38;5;29m│\u001b[0m\u001b[38;5;28m        \u001b[0m\u001b[38;5;29m│\u001b[0m\u001b[38;5;28m \u001b[0m\u001b[38;5;28mUncertainty\u001b[0m\u001b[38;5;28m \u001b[0m\u001b[38;5;29m│\u001b[0m\u001b[38;5;28m             \u001b[0m\u001b[38;5;29m│\u001b[0m\u001b[38;5;28m \u001b[0m\u001b[38;5;28mFwd Div    \u001b[0m\u001b[38;5;28m \u001b[0m\u001b[38;5;29m│\u001b[0m\u001b[38;5;28m             \u001b[0m\u001b[38;5;29m│\u001b[0m\u001b[38;5;28m            \u001b[0m\u001b[38;5;29m│\u001b[0m\u001b[38;5;28m        \u001b[0m\u001b[38;5;29m│\u001b[0m\u001b[38;5;28m \u001b[0m\u001b[38;5;28m   Price /\u001b[0m\u001b[38;5;28m \u001b[0m\u001b[38;5;29m│\u001b[0m\u001b[38;5;29m \u001b[0m\u001b[38;5;29m│\u001b[0m\n",
       "\u001b[38;5;29m│\u001b[0m\u001b[38;5;29m \u001b[0m\u001b[38;5;29m│\u001b[0m\u001b[38;5;28m \u001b[0m\u001b[38;5;28mName   \u001b[0m\u001b[38;5;28m \u001b[0m\u001b[38;5;29m│\u001b[0m\u001b[38;5;28m \u001b[0m\u001b[38;5;28mTicker\u001b[0m\u001b[38;5;28m \u001b[0m\u001b[38;5;29m│\u001b[0m\u001b[38;5;28m \u001b[0m\u001b[38;5;28mRating     \u001b[0m\u001b[38;5;28m \u001b[0m\u001b[38;5;29m│\u001b[0m\u001b[38;5;28m \u001b[0m\u001b[38;5;28mMoat Rating\u001b[0m\u001b[38;5;28m \u001b[0m\u001b[38;5;29m│\u001b[0m\u001b[38;5;28m \u001b[0m\u001b[38;5;28mYield      \u001b[0m\u001b[38;5;28m \u001b[0m\u001b[38;5;29m│\u001b[0m\u001b[38;5;28m \u001b[0m\u001b[38;5;28mSector     \u001b[0m\u001b[38;5;28m \u001b[0m\u001b[38;5;29m│\u001b[0m\u001b[38;5;28m \u001b[0m\u001b[38;5;28mFair Value\u001b[0m\u001b[38;5;28m \u001b[0m\u001b[38;5;29m│\u001b[0m\u001b[38;5;28m \u001b[0m\u001b[38;5;28m Price\u001b[0m\u001b[38;5;28m \u001b[0m\u001b[38;5;29m│\u001b[0m\u001b[38;5;28m \u001b[0m\u001b[38;5;28mFair Ratio\u001b[0m\u001b[38;5;28m \u001b[0m\u001b[38;5;29m│\u001b[0m\u001b[38;5;29m \u001b[0m\u001b[38;5;29m│\u001b[0m\n",
       "\u001b[38;5;29m│\u001b[0m\u001b[38;5;29m \u001b[0m\u001b[38;5;29m├─────────┼────────┼─────────────┼─────────────┼─────────────┼─────────────┼────────────┼────────┼────────────┤\u001b[0m\u001b[38;5;29m \u001b[0m\u001b[38;5;29m│\u001b[0m\n",
       "\u001b[38;5;29m│\u001b[0m\u001b[38;5;29m \u001b[0m\u001b[38;5;29m│\u001b[0m\u001b[38;5;40m \u001b[0m\u001b[38;5;40mNordson\u001b[0m\u001b[38;5;40m \u001b[0m\u001b[38;5;29m│\u001b[0m\u001b[38;5;40m \u001b[0m\u001b[38;5;40mNDSN  \u001b[0m\u001b[38;5;40m \u001b[0m\u001b[38;5;29m│\u001b[0m\u001b[38;5;40m \u001b[0m\u001b[38;5;40mMedium     \u001b[0m\u001b[38;5;40m \u001b[0m\u001b[38;5;29m│\u001b[0m\u001b[38;5;40m \u001b[0m\u001b[38;5;40mWide       \u001b[0m\u001b[38;5;40m \u001b[0m\u001b[38;5;29m│\u001b[0m\u001b[38;5;40m \u001b[0m\u001b[38;5;40m1.41%      \u001b[0m\u001b[38;5;40m \u001b[0m\u001b[38;5;29m│\u001b[0m\u001b[38;5;40m \u001b[0m\u001b[38;5;40mIndustrials\u001b[0m\u001b[38;5;40m \u001b[0m\u001b[38;5;29m│\u001b[0m\u001b[38;5;40m \u001b[0m\u001b[38;5;40m     249.0\u001b[0m\u001b[38;5;40m \u001b[0m\u001b[38;5;29m│\u001b[0m\u001b[38;5;40m \u001b[0m\u001b[38;5;40m210.61\u001b[0m\u001b[38;5;40m \u001b[0m\u001b[38;5;29m│\u001b[0m\u001b[38;5;40m \u001b[0m\u001b[38;5;40m      0.85\u001b[0m\u001b[38;5;40m \u001b[0m\u001b[38;5;29m│\u001b[0m\u001b[38;5;29m \u001b[0m\u001b[38;5;29m│\u001b[0m\n",
       "\u001b[38;5;29m│\u001b[0m\u001b[38;5;29m \u001b[0m\u001b[38;5;29m╰─────────┴────────┴─────────────┴─────────────┴─────────────┴─────────────┴────────────┴────────┴────────────╯\u001b[0m\u001b[38;5;29m \u001b[0m\u001b[38;5;29m│\u001b[0m\n",
       "\u001b[38;5;29m│\u001b[0m\u001b[38;5;29m \u001b[0m\u001b[38;5;29m╭─\u001b[0m\u001b[38;5;29m─────────────────────────────────────────────────\u001b[0m\u001b[38;5;29m \u001b[0m\u001b[38;5;41mSummary\u001b[0m\u001b[38;5;29m \u001b[0m\u001b[38;5;29m─────────────────────────────────────────────────\u001b[0m\u001b[38;5;29m─╮\u001b[0m\u001b[38;5;29m \u001b[0m\u001b[38;5;29m│\u001b[0m\n",
       "\u001b[38;5;29m│\u001b[0m\u001b[38;5;29m \u001b[0m\u001b[38;5;29m│\u001b[0m\u001b[38;5;29m                                                                                                             \u001b[0m\u001b[38;5;29m│\u001b[0m\u001b[38;5;29m \u001b[0m\u001b[38;5;29m│\u001b[0m\n",
       "\u001b[38;5;29m│\u001b[0m\u001b[38;5;29m \u001b[0m\u001b[38;5;29m│\u001b[0m\u001b[38;5;29m \u001b[0m\u001b[38;5;29mNordson stock trades 11% below fair value with a high economic moat rating. The company is a leading       \u001b[0m\u001b[38;5;29m \u001b[0m\u001b[38;5;29m│\u001b[0m\u001b[38;5;29m \u001b[0m\u001b[38;5;29m│\u001b[0m\n",
       "\u001b[38;5;29m│\u001b[0m\u001b[38;5;29m \u001b[0m\u001b[38;5;29m│\u001b[0m\u001b[38;5;29m \u001b[0m\u001b[38;5;29mmanufacturer of equipment used for dispensing adhesives, coatings, and other materials, and prioritizes    \u001b[0m\u001b[38;5;29m \u001b[0m\u001b[38;5;29m│\u001b[0m\u001b[38;5;29m \u001b[0m\u001b[38;5;29m│\u001b[0m\n",
       "\u001b[38;5;29m│\u001b[0m\u001b[38;5;29m \u001b[0m\u001b[38;5;29m│\u001b[0m\u001b[38;5;29m \u001b[0m\u001b[38;5;29mgrowing its dividend.                                                                                      \u001b[0m\u001b[38;5;29m \u001b[0m\u001b[38;5;29m│\u001b[0m\u001b[38;5;29m \u001b[0m\u001b[38;5;29m│\u001b[0m\n",
       "\u001b[38;5;29m│\u001b[0m\u001b[38;5;29m \u001b[0m\u001b[38;5;29m│\u001b[0m\u001b[38;5;29m                                                                                                             \u001b[0m\u001b[38;5;29m│\u001b[0m\u001b[38;5;29m \u001b[0m\u001b[38;5;29m│\u001b[0m\n",
       "\u001b[38;5;29m│\u001b[0m\u001b[38;5;29m \u001b[0m\u001b[38;5;29m╰─────────────────────────────────────────────────────────────────────────────────────────────────────────────╯\u001b[0m\u001b[38;5;29m \u001b[0m\u001b[38;5;29m│\u001b[0m\n",
       "\u001b[38;5;29m│\u001b[0m\u001b[38;5;29m                                                                                                                 \u001b[0m\u001b[38;5;29m│\u001b[0m\n",
       "\u001b[38;5;29m╰─────────────────────────────────────────────────────────────────────────────────────────────────────────────────╯\u001b[0m\n",
       "\u001b[38;5;29m╭─\u001b[0m\u001b[38;5;29m─────────────────────────────────────────────\u001b[0m \u001b[38;5;41mKimberly-Clark-KMB\u001b[0m \u001b[38;5;29m──────────────────────────────────────────────\u001b[0m\u001b[38;5;29m─╮\u001b[0m\n",
       "\u001b[38;5;29m│\u001b[0m\u001b[38;5;29m                                                                                                                 \u001b[0m\u001b[38;5;29m│\u001b[0m\n",
       "\u001b[38;5;29m│\u001b[0m\u001b[38;5;29m \u001b[0m\u001b[38;5;29m╭────────────┬────────┬────────────┬────────────┬────────────┬─────────────┬────────────┬────────┬────────────╮\u001b[0m\u001b[38;5;29m \u001b[0m\u001b[38;5;29m│\u001b[0m\n",
       "\u001b[38;5;29m│\u001b[0m\u001b[38;5;29m \u001b[0m\u001b[38;5;29m│\u001b[0m\u001b[38;5;28m            \u001b[0m\u001b[38;5;29m│\u001b[0m\u001b[38;5;28m        \u001b[0m\u001b[38;5;29m│\u001b[0m\u001b[38;5;28m \u001b[0m\u001b[38;5;28mUncertain…\u001b[0m\u001b[38;5;28m \u001b[0m\u001b[38;5;29m│\u001b[0m\u001b[38;5;28m \u001b[0m\u001b[38;5;28mMoat      \u001b[0m\u001b[38;5;28m \u001b[0m\u001b[38;5;29m│\u001b[0m\u001b[38;5;28m \u001b[0m\u001b[38;5;28mFwd Div   \u001b[0m\u001b[38;5;28m \u001b[0m\u001b[38;5;29m│\u001b[0m\u001b[38;5;28m             \u001b[0m\u001b[38;5;29m│\u001b[0m\u001b[38;5;28m            \u001b[0m\u001b[38;5;29m│\u001b[0m\u001b[38;5;28m        \u001b[0m\u001b[38;5;29m│\u001b[0m\u001b[38;5;28m \u001b[0m\u001b[38;5;28m   Price /\u001b[0m\u001b[38;5;28m \u001b[0m\u001b[38;5;29m│\u001b[0m\u001b[38;5;29m \u001b[0m\u001b[38;5;29m│\u001b[0m\n",
       "\u001b[38;5;29m│\u001b[0m\u001b[38;5;29m \u001b[0m\u001b[38;5;29m│\u001b[0m\u001b[38;5;28m \u001b[0m\u001b[38;5;28mName      \u001b[0m\u001b[38;5;28m \u001b[0m\u001b[38;5;29m│\u001b[0m\u001b[38;5;28m \u001b[0m\u001b[38;5;28mTicker\u001b[0m\u001b[38;5;28m \u001b[0m\u001b[38;5;29m│\u001b[0m\u001b[38;5;28m \u001b[0m\u001b[38;5;28mRating    \u001b[0m\u001b[38;5;28m \u001b[0m\u001b[38;5;29m│\u001b[0m\u001b[38;5;28m \u001b[0m\u001b[38;5;28mRating    \u001b[0m\u001b[38;5;28m \u001b[0m\u001b[38;5;29m│\u001b[0m\u001b[38;5;28m \u001b[0m\u001b[38;5;28mYield     \u001b[0m\u001b[38;5;28m \u001b[0m\u001b[38;5;29m│\u001b[0m\u001b[38;5;28m \u001b[0m\u001b[38;5;28mSector     \u001b[0m\u001b[38;5;28m \u001b[0m\u001b[38;5;29m│\u001b[0m\u001b[38;5;28m \u001b[0m\u001b[38;5;28mFair Value\u001b[0m\u001b[38;5;28m \u001b[0m\u001b[38;5;29m│\u001b[0m\u001b[38;5;28m \u001b[0m\u001b[38;5;28m Price\u001b[0m\u001b[38;5;28m \u001b[0m\u001b[38;5;29m│\u001b[0m\u001b[38;5;28m \u001b[0m\u001b[38;5;28mFair Ratio\u001b[0m\u001b[38;5;28m \u001b[0m\u001b[38;5;29m│\u001b[0m\u001b[38;5;29m \u001b[0m\u001b[38;5;29m│\u001b[0m\n",
       "\u001b[38;5;29m│\u001b[0m\u001b[38;5;29m \u001b[0m\u001b[38;5;29m├────────────┼────────┼────────────┼────────────┼────────────┼─────────────┼────────────┼────────┼────────────┤\u001b[0m\u001b[38;5;29m \u001b[0m\u001b[38;5;29m│\u001b[0m\n",
       "\u001b[38;5;29m│\u001b[0m\u001b[38;5;29m \u001b[0m\u001b[38;5;29m│\u001b[0m\u001b[38;5;40m \u001b[0m\u001b[38;5;40mKimberly-…\u001b[0m\u001b[38;5;40m \u001b[0m\u001b[38;5;29m│\u001b[0m\u001b[38;5;40m \u001b[0m\u001b[38;5;40mKMB   \u001b[0m\u001b[38;5;40m \u001b[0m\u001b[38;5;29m│\u001b[0m\u001b[38;5;40m \u001b[0m\u001b[38;5;40mMedium    \u001b[0m\u001b[38;5;40m \u001b[0m\u001b[38;5;29m│\u001b[0m\u001b[38;5;40m \u001b[0m\u001b[38;5;40mNarrow    \u001b[0m\u001b[38;5;40m \u001b[0m\u001b[38;5;29m│\u001b[0m\u001b[38;5;40m \u001b[0m\u001b[38;5;40m3.96%     \u001b[0m\u001b[38;5;40m \u001b[0m\u001b[38;5;29m│\u001b[0m\u001b[38;5;40m \u001b[0m\u001b[38;5;40mConsumer   \u001b[0m\u001b[38;5;40m \u001b[0m\u001b[38;5;29m│\u001b[0m\u001b[38;5;40m \u001b[0m\u001b[38;5;40m    138.84\u001b[0m\u001b[38;5;40m \u001b[0m\u001b[38;5;29m│\u001b[0m\u001b[38;5;40m \u001b[0m\u001b[38;5;40m134.15\u001b[0m\u001b[38;5;40m \u001b[0m\u001b[38;5;29m│\u001b[0m\u001b[38;5;40m \u001b[0m\u001b[38;5;40m      0.97\u001b[0m\u001b[38;5;40m \u001b[0m\u001b[38;5;29m│\u001b[0m\u001b[38;5;29m \u001b[0m\u001b[38;5;29m│\u001b[0m\n",
       "\u001b[38;5;29m│\u001b[0m\u001b[38;5;29m \u001b[0m\u001b[38;5;29m│\u001b[0m\u001b[38;5;40m            \u001b[0m\u001b[38;5;29m│\u001b[0m\u001b[38;5;40m        \u001b[0m\u001b[38;5;29m│\u001b[0m\u001b[38;5;40m            \u001b[0m\u001b[38;5;29m│\u001b[0m\u001b[38;5;40m            \u001b[0m\u001b[38;5;29m│\u001b[0m\u001b[38;5;40m            \u001b[0m\u001b[38;5;29m│\u001b[0m\u001b[38;5;40m \u001b[0m\u001b[38;5;40mDefensive  \u001b[0m\u001b[38;5;40m \u001b[0m\u001b[38;5;29m│\u001b[0m\u001b[38;5;40m            \u001b[0m\u001b[38;5;29m│\u001b[0m\u001b[38;5;40m        \u001b[0m\u001b[38;5;29m│\u001b[0m\u001b[38;5;40m            \u001b[0m\u001b[38;5;29m│\u001b[0m\u001b[38;5;29m \u001b[0m\u001b[38;5;29m│\u001b[0m\n",
       "\u001b[38;5;29m│\u001b[0m\u001b[38;5;29m \u001b[0m\u001b[38;5;29m╰────────────┴────────┴────────────┴────────────┴────────────┴─────────────┴────────────┴────────┴────────────╯\u001b[0m\u001b[38;5;29m \u001b[0m\u001b[38;5;29m│\u001b[0m\n",
       "\u001b[38;5;29m│\u001b[0m\u001b[38;5;29m \u001b[0m\u001b[38;5;29m╭─\u001b[0m\u001b[38;5;29m─────────────────────────────────────────────────\u001b[0m\u001b[38;5;29m \u001b[0m\u001b[38;5;41mSummary\u001b[0m\u001b[38;5;29m \u001b[0m\u001b[38;5;29m─────────────────────────────────────────────────\u001b[0m\u001b[38;5;29m─╮\u001b[0m\u001b[38;5;29m \u001b[0m\u001b[38;5;29m│\u001b[0m\n",
       "\u001b[38;5;29m│\u001b[0m\u001b[38;5;29m \u001b[0m\u001b[38;5;29m│\u001b[0m\u001b[38;5;29m                                                                                                             \u001b[0m\u001b[38;5;29m│\u001b[0m\u001b[38;5;29m \u001b[0m\u001b[38;5;29m│\u001b[0m\n",
       "\u001b[38;5;29m│\u001b[0m\u001b[38;5;29m \u001b[0m\u001b[38;5;29m│\u001b[0m\u001b[38;5;29m \u001b[0m\u001b[38;5;29mSummary of Kimberly-Clark's stock, highlighting its narrow moat, billion-dollar brands, and long-term      \u001b[0m\u001b[38;5;29m \u001b[0m\u001b[38;5;29m│\u001b[0m\u001b[38;5;29m \u001b[0m\u001b[38;5;29m│\u001b[0m\n",
       "\u001b[38;5;29m│\u001b[0m\u001b[38;5;29m \u001b[0m\u001b[38;5;29m│\u001b[0m\u001b[38;5;29m \u001b[0m\u001b[38;5;29mdividend growth expectations, as well as its focus on innovation, marketing, and product development.      \u001b[0m\u001b[38;5;29m \u001b[0m\u001b[38;5;29m│\u001b[0m\u001b[38;5;29m \u001b[0m\u001b[38;5;29m│\u001b[0m\n",
       "\u001b[38;5;29m│\u001b[0m\u001b[38;5;29m \u001b[0m\u001b[38;5;29m│\u001b[0m\u001b[38;5;29m                                                                                                             \u001b[0m\u001b[38;5;29m│\u001b[0m\u001b[38;5;29m \u001b[0m\u001b[38;5;29m│\u001b[0m\n",
       "\u001b[38;5;29m│\u001b[0m\u001b[38;5;29m \u001b[0m\u001b[38;5;29m╰─────────────────────────────────────────────────────────────────────────────────────────────────────────────╯\u001b[0m\u001b[38;5;29m \u001b[0m\u001b[38;5;29m│\u001b[0m\n",
       "\u001b[38;5;29m│\u001b[0m\u001b[38;5;29m                                                                                                                 \u001b[0m\u001b[38;5;29m│\u001b[0m\n",
       "\u001b[38;5;29m╰─────────────────────────────────────────────────────────────────────────────────────────────────────────────────╯\u001b[0m\n",
       "╭──────────────────────────────────────────────────── \u001b[38;5;41mFooter\u001b[0m ─────────────────────────────────────────────────────╮\n",
       "│                                                                                                                 │\n",
       "│ Article: \u001b]8;id=447951;https://www.morningstar.com.au/stocks/10-best-us-dividend-aristocrats-buy-nowincluding-surprise-outperformer?user_segment=indinv\u001b\\10 best US dividend aristocrats to buy now—including a surprise outperformer\u001b]8;;\u001b\\                           │\n",
       "│                                                                                                                 │\n",
       "╰─────────────────────────────────────────────────────────────────────────────────────────────────────────────────╯\n"
      ]
     },
     "metadata": {},
     "output_type": "display_data"
    }
   ],
   "source": [
    "from rich.console import Console\n",
    "from rich.columns import Columns\n",
    "from rich.panel import Panel\n",
    "from rich.text import Text\n",
    "from rich import box\n",
    "\n",
    "# Save header formats and styles\n",
    "theme = 'green'\n",
    "header, panel_header = get_headers(theme=theme)\n",
    "table_style, row_style, panel_style = get_styles(theme=theme)\n",
    "\n",
    "# Create a summary panel for given stock\n",
    "def get_summary_panel(stock) -> Panel:\n",
    "    return Panel(stock['summary'], title=f'{panel_header}Summary[/]', box=box.ROUNDED,\n",
    "                 style=panel_style, padding=(1,1))\n",
    "\n",
    "# Create a Title panel\n",
    "def get_title_panel() -> Panel:\n",
    "    heading_title = f'{header}Morningstar 10 Best US dividend Aristocrats @ {TODAY_DATE}[/]'\n",
    "    return Panel('', title=heading_title, padding=(1,1), height=3)\n",
    "\n",
    "# Footer panel\n",
    "def get_footer_panel() -> Panel:\n",
    "    footer_text = f'Article: [link={ARTICLE_URL}]10 best US \\\n",
    "dividend aristocrats to buy now—including a surprise outperformer[/link]'\n",
    "    return Panel(footer_text, title=f'{panel_header}Footer[/]', padding=(1,1))\n",
    "\n",
    "# List of panels for each stock, each consists of table plus summary panel\n",
    "panels = [Panel(Columns([create_table(stock=stk, header_style=table_style,\n",
    "                                      border_style=panel_style, row_style=row_style),\n",
    "                         get_summary_panel(stk)]),\n",
    "                title=f\"{panel_header}{stk['name']}-{stk['sym']}[/]\",\n",
    "                expand=True, style=panel_style, padding=(1,1)) for stk in stocks[8:10]]\n",
    "\n",
    "console = Console()\n",
    "console.print(Columns([get_title_panel()] + panels + [get_footer_panel()]))"
   ]
  },
  {
   "cell_type": "code",
   "execution_count": null,
   "id": "92ed1c51-05e9-47c5-9840-e613f5307582",
   "metadata": {},
   "outputs": [],
   "source": []
  }
 ],
 "metadata": {
  "kernelspec": {
   "display_name": "Python 3 (ipykernel)",
   "language": "python",
   "name": "python3"
  },
  "language_info": {
   "codemirror_mode": {
    "name": "ipython",
    "version": 3
   },
   "file_extension": ".py",
   "mimetype": "text/x-python",
   "name": "python",
   "nbconvert_exporter": "python",
   "pygments_lexer": "ipython3",
   "version": "3.13.5"
  }
 },
 "nbformat": 4,
 "nbformat_minor": 5
}
