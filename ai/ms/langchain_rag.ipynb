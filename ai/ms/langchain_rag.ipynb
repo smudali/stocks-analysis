{
 "cells": [
  {
   "cell_type": "code",
   "execution_count": 1,
   "id": "9364bd50-7d2a-4c81-8c21-9064acd3dece",
   "metadata": {},
   "outputs": [],
   "source": [
    "import sys\n",
    "# !{sys.executable} -m pip install --upgrade pip\n",
    "# !{sys.executable} -m pip install langchain-text-splitters\n",
    "# !{sys.executable} -m pip install langchain-pull-md"
   ]
  },
  {
   "cell_type": "code",
   "execution_count": 2,
   "id": "e5eacc15-63eb-4079-9163-64006d79019a",
   "metadata": {},
   "outputs": [],
   "source": [
    "ARTICLE_URL = 'https://www.morningstar.com.au/stocks/10-best-us-dividend-aristocrats-buy-nowincluding-surprise-outperformer?user_segment=indinv'\n",
    "\n",
    "# Path to the chroma db\n",
    "CHROMA_DB = './db/langchain_rag'\n",
    "# Name of the collection\n",
    "COLLECTION_NAME = 'us_div_stocks'"
   ]
  },
  {
   "cell_type": "markdown",
   "id": "31d6df3f-7c93-4c39-8a79-a8e2f7dc5b17",
   "metadata": {},
   "source": [
    "## Drop Chromadb collection"
   ]
  },
  {
   "cell_type": "code",
   "execution_count": 3,
   "id": "6681dfeb-5e7d-498d-aa2f-beb3b6122258",
   "metadata": {},
   "outputs": [],
   "source": [
    "import chromadb\n",
    "from chromadb.config import Settings\n",
    "\n",
    "def drop_collection():\n",
    "    # Initialize the ChromaDB client (e.g., PersistentClient for local storage)\n",
    "    client = chromadb.PersistentClient(path=CHROMA_DB, settings=Settings(allow_reset=True))\n",
    "    \n",
    "    try:\n",
    "        # Attempt to get the collection\n",
    "        collection = client.get_collection(name=COLLECTION_NAME)\n",
    "\n",
    "        # If successful, the collection exists, so delete it\n",
    "        client.delete_collection(name=COLLECTION_NAME)\n",
    "        print(f\"Collection '{COLLECTION_NAME}' deleted successfully.\")\n",
    "    except:\n",
    "        # If get_collection raises an error, the collection does not exist\n",
    "        print(f\"Collection '{COLLECTION_NAME}' does not exist, no deletion performed.\")"
   ]
  },
  {
   "cell_type": "code",
   "execution_count": 4,
   "id": "d035f148-f069-41ee-a2d4-841d7a2e8fdf",
   "metadata": {},
   "outputs": [
    {
     "name": "stdout",
     "output_type": "stream",
     "text": [
      "Collection 'us_div_stocks' deleted successfully.\n"
     ]
    }
   ],
   "source": [
    "# Drop the collection at each run\n",
    "drop_collection()"
   ]
  },
  {
   "cell_type": "markdown",
   "id": "d8c6e358-a8b7-4733-a275-d44cc52859f1",
   "metadata": {},
   "source": [
    "## Split the article based on H2"
   ]
  },
  {
   "cell_type": "code",
   "execution_count": 5,
   "id": "91e0c61b-9cc2-4523-91e7-1e0e0f5fa7ed",
   "metadata": {},
   "outputs": [],
   "source": [
    "from langchain_pull_md import PullMdLoader\n",
    "from langchain_text_splitters import MarkdownHeaderTextSplitter\n",
    "\n",
    "def get_document_chunks():\n",
    "    # Initialize the loader with the desired URL\n",
    "    loader = PullMdLoader(url=ARTICLE_URL)\n",
    "    # Load the content, which will be converted to Markdown\n",
    "    documents = loader.load()\n",
    "    # Headers to do the splitting\n",
    "    headers_to_split_on = [(\"##\", \"Header 2\")]\n",
    "    md_splitter = MarkdownHeaderTextSplitter(headers_to_split_on)\n",
    "    return md_splitter.split_text(documents[0].page_content)"
   ]
  },
  {
   "cell_type": "code",
   "execution_count": 6,
   "id": "0cace487-5cff-4e19-bd15-75196674fd15",
   "metadata": {},
   "outputs": [],
   "source": [
    "# Convert the URL into document checkins based on Heading Level 2\n",
    "document_chunks = get_document_chunks()"
   ]
  },
  {
   "cell_type": "markdown",
   "id": "046fb3c8-b558-4a0f-b868-d110db901ea9",
   "metadata": {},
   "source": [
    "## Suppress warnings from torch"
   ]
  },
  {
   "cell_type": "code",
   "execution_count": 7,
   "id": "64524a12-28c3-4fe8-aed7-f98742c06348",
   "metadata": {},
   "outputs": [],
   "source": [
    "import warnings\n",
    "warnings.filterwarnings('ignore', module='torch')"
   ]
  },
  {
   "cell_type": "markdown",
   "id": "d6e77981-4627-48dc-abd7-6ea1aeea73b6",
   "metadata": {},
   "source": [
    "## Create embeddings and vector store"
   ]
  },
  {
   "cell_type": "code",
   "execution_count": 8,
   "id": "3acb89d4-1115-492c-bd32-94a71c576a4c",
   "metadata": {},
   "outputs": [
    {
     "data": {
      "text/plain": [
       "['52f1c92b-1e24-4552-8cd5-25b837a0a24e',\n",
       " '85f41006-eefc-4ce0-a45d-49aa0b007d34',\n",
       " '57e093e8-a29c-4f32-ae3f-00dc3181140f',\n",
       " '1ae2c486-d7e5-43d1-86d4-13fd48e153e1',\n",
       " '02058fbe-9176-4a09-bcdb-00b047df4c5a',\n",
       " '02a0b66a-e0b9-42c6-be8e-a8004d6bb4d7',\n",
       " '613addfb-bde9-4c53-b203-d2fbd9450438',\n",
       " '38d0ed4b-fd29-49f3-a75e-a20f6dba162f',\n",
       " 'd7bd6b7a-43df-4caa-adf5-e1ba7e5f88bc',\n",
       " '9c4038bd-de0d-4437-88c7-266c68029ddd',\n",
       " '01284386-1123-44b8-b290-0239e849154c',\n",
       " '43fb801d-a800-4a65-afa6-ba10ac4d5dd7']"
      ]
     },
     "execution_count": 8,
     "metadata": {},
     "output_type": "execute_result"
    }
   ],
   "source": [
    "from langchain_huggingface import HuggingFaceEmbeddings\n",
    "from langchain_chroma import Chroma \n",
    "from chromadb.config import Settings\n",
    "\n",
    "# Our embeddings model\n",
    "embeddings_model = HuggingFaceEmbeddings(model_name='all-MiniLM-L6-v2')\n",
    "\n",
    "# Vector store; data saved locally\n",
    "vector_store = Chroma(\n",
    "    collection_name=COLLECTION_NAME,\n",
    "    embedding_function=embeddings_model,\n",
    "    client_settings=Settings(allow_reset=True),\n",
    "    persist_directory=CHROMA_DB    \n",
    ")\n",
    "# Persist documents\n",
    "vector_store.add_documents(document_chunks[1:13])"
   ]
  },
  {
   "cell_type": "markdown",
   "id": "bbaf68e0-56c0-40d9-bcd4-5ed6f9aaf052",
   "metadata": {},
   "source": [
    "## Load API Keys"
   ]
  },
  {
   "cell_type": "code",
   "execution_count": 9,
   "id": "5ea7ec24-6232-4e5f-88ed-5dcd4b3f1185",
   "metadata": {},
   "outputs": [
    {
     "data": {
      "text/plain": [
       "True"
      ]
     },
     "execution_count": 9,
     "metadata": {},
     "output_type": "execute_result"
    }
   ],
   "source": [
    "# To read environment property file\n",
    "from dotenv import load_dotenv\n",
    "# Load environment variables from .env file\n",
    "load_dotenv()"
   ]
  },
  {
   "cell_type": "markdown",
   "id": "e5af5f04-a02c-433a-a6a0-3ae86695bd0d",
   "metadata": {},
   "source": [
    "## Define the LLM"
   ]
  },
  {
   "cell_type": "code",
   "execution_count": 10,
   "id": "e0d3dcfe-0b3a-47ab-95f1-67ac24530b1f",
   "metadata": {},
   "outputs": [],
   "source": [
    "from langchain_groq import ChatGroq\n",
    "\n",
    "# Ensure your GROQ_API_KEY is set in environment variables\n",
    "llm = ChatGroq(temperature=0.5, model_name='llama3-8b-8192')"
   ]
  },
  {
   "cell_type": "markdown",
   "id": "e904f4ff-7b67-498c-b43e-358f70500a75",
   "metadata": {},
   "source": [
    "## Build the RAG Chain"
   ]
  },
  {
   "cell_type": "code",
   "execution_count": 11,
   "id": "aac28bcf-724a-4bb9-a2a0-b32e69144e36",
   "metadata": {},
   "outputs": [],
   "source": [
    "from langchain.chains import create_retrieval_chain\n",
    "from langchain.chains.combine_documents import create_stuff_documents_chain\n",
    "from langchain_core.prompts import ChatPromptTemplate\n",
    "\n",
    "# Define the prompt template for the LLM\n",
    "prompt = ChatPromptTemplate.from_template(\n",
    "    \"\"\"\n",
    "    You are a helpful assistant. Answer the query below based on the provided context:\n",
    "    context: {context}\n",
    "    query: {input}\n",
    "    \"\"\"\n",
    ")\n",
    "# Create a document chain to stuff retrieved documents into the prompt\n",
    "document_chain = create_stuff_documents_chain(llm, prompt)\n",
    "\n",
    "# Create a retriever from the vector store\n",
    "retriever = vector_store.as_retriever()\n",
    "\n",
    "# Combine the retriever and document chain into a RAG chain\n",
    "qa_chain = create_retrieval_chain(retriever, document_chain)"
   ]
  },
  {
   "cell_type": "markdown",
   "id": "78c0ebe7-8ade-436f-8a29-e49c0bc72406",
   "metadata": {},
   "source": [
    "## Queries"
   ]
  },
  {
   "cell_type": "markdown",
   "id": "695ada8c-1239-496d-bfe1-610bbc1e33fd",
   "metadata": {},
   "source": [
    "### Stock Symbols"
   ]
  },
  {
   "cell_type": "code",
   "execution_count": 13,
   "id": "a24617c9-1e45-4bca-9766-fc3682516ca7",
   "metadata": {},
   "outputs": [
    {
     "name": "stdout",
     "output_type": "stream",
     "text": [
      "The stock symbols discussed are:\n",
      "\n",
      "1. BDX (Becton Dickinson)\n",
      "2. BF.B (Brown-Forman)\n",
      "3. CLX (Clorox)\n",
      "4. XOM (ExxonMobil)\n",
      "5. MDT (Medtronic)\n",
      "6. WST (West Pharmaceutical Services)\n",
      "7. AMCR (Amcor)\n",
      "8. PEP (PepsiCo)\n",
      "9. NDSN (Nordson)\n",
      "10. KMB (Kimberly-Clark)\n"
     ]
    }
   ],
   "source": [
    "query = 'What stock symbols are discussed?'\n",
    "response = qa_chain.invoke({'input': query})\n",
    "print(response['answer'])"
   ]
  },
  {
   "cell_type": "markdown",
   "id": "bd27b82e-8a2a-4ce1-a5f4-ab1b06c6fa5d",
   "metadata": {},
   "source": [
    "### Fair Value for ExxonMobil"
   ]
  },
  {
   "cell_type": "code",
   "execution_count": 14,
   "id": "175ed1e8-6dee-4bcf-aef1-42d1cb89c88b",
   "metadata": {},
   "outputs": [
    {
     "name": "stdout",
     "output_type": "stream",
     "text": [
      "According to the given context, the fair value for ExxonMobil is $135.\n"
     ]
    }
   ],
   "source": [
    "query = 'What is the fair value for ExxonMobil?'\n",
    "response = qa_chain.invoke({'input': query})\n",
    "print(response['answer'])"
   ]
  },
  {
   "cell_type": "markdown",
   "id": "f5dd84f2-5f45-4c42-91ab-70ccb608aaf3",
   "metadata": {},
   "source": [
    "### Summarize a Company"
   ]
  },
  {
   "cell_type": "code",
   "execution_count": 15,
   "id": "8afbe5c3-3ab6-41a9-8d79-733d69e6ecae",
   "metadata": {},
   "outputs": [
    {
     "name": "stdout",
     "output_type": "stream",
     "text": [
      "Here is a summary of Medtronic:\n",
      "\n",
      "Medtronic is a leading medical device company with a diversified product portfolio that spans various therapeutic areas, including cardiac, diabetes, chronic pain, and acute care. The company has a strong position as a major vendor to hospital customers due to its innovative technology and diversified product portfolio. Medtronic has a history of introducing new products and technologies, and has invested heavily in internal research and development efforts as well as acquiring emerging technologies. The company has a strong financial position and has consistently returned a significant portion of its annual free cash flow to shareholders. Despite being 17% undervalued relative to Morningstar's fair value estimate, Medtronic's stock has been outperforming the market this year. Morningstar's senior equity analyst, Debbie Wang, believes that the company's distributions have been appropriate and that its standing as the largest pure-play medical device maker remains a force to be reckoned with in the med-tech landscape.\n"
     ]
    }
   ],
   "source": [
    "query = 'Summarize Medtronic'\n",
    "response = qa_chain.invoke({'input': query})\n",
    "print(response['answer'])"
   ]
  },
  {
   "cell_type": "markdown",
   "id": "e98e38a2-d8cb-4e0c-9fef-72dc7cabd3da",
   "metadata": {},
   "source": [
    "### Short Summary"
   ]
  },
  {
   "cell_type": "code",
   "execution_count": 16,
   "id": "afd29130-7351-45d3-bdc3-3b506b4fd5bb",
   "metadata": {},
   "outputs": [
    {
     "name": "stdout",
     "output_type": "stream",
     "text": [
      "Medtronic: Largest medical-device company with diversified portfolio, strong innovation, and significant market share. Undervalued, trading 17% below fair value.\n"
     ]
    }
   ],
   "source": [
    "query = 'Summarize Medtronic, make it less than 200 characters'\n",
    "response = qa_chain.invoke({'input': query})\n",
    "print(response['answer'])"
   ]
  },
  {
   "cell_type": "markdown",
   "id": "25d8f2b6-3bb4-4b15-9b2d-4335e597f475",
   "metadata": {},
   "source": [
    "### Sector"
   ]
  },
  {
   "cell_type": "code",
   "execution_count": 17,
   "id": "4127e9f7-15e5-421e-8244-e06ccb22c20d",
   "metadata": {},
   "outputs": [
    {
     "name": "stdout",
     "output_type": "stream",
     "text": [
      "According to the provided context, Becton Dickinson (BDX) is in the Healthcare sector.\n"
     ]
    }
   ],
   "source": [
    "query = 'Which sector Becton Dickinson is in?'\n",
    "response = qa_chain.invoke({'input': query})\n",
    "print(response['answer'])"
   ]
  },
  {
   "cell_type": "markdown",
   "id": "b5769ed2-7c95-4421-929a-6970a76b2bf2",
   "metadata": {},
   "source": [
    "### Undervalued?"
   ]
  },
  {
   "cell_type": "code",
   "execution_count": 18,
   "id": "39a43fbe-2ee8-40ce-835a-2bd33515e2e8",
   "metadata": {},
   "outputs": [
    {
     "name": "stdout",
     "output_type": "stream",
     "text": [
      "According to the context, Amcor stock trades 11% below Morningstar's $11 fair value estimate, which means it is 11% undervalued.\n"
     ]
    }
   ],
   "source": [
    "query = 'How much undervalued Amcor is?'\n",
    "response = qa_chain.invoke({'input': query})\n",
    "print(response['answer'])"
   ]
  },
  {
   "cell_type": "markdown",
   "id": "2505ef57-0fab-40a6-ae56-253aaed766f1",
   "metadata": {},
   "source": [
    "### Goal of the article"
   ]
  },
  {
   "cell_type": "code",
   "execution_count": 32,
   "id": "f9da5edf-943a-4fd9-b778-20ac282eb603",
   "metadata": {},
   "outputs": [
    {
     "name": "stdout",
     "output_type": "stream",
     "text": [
      "The main goal of the document is to provide a list of top dividend aristocrats to buy, along with a brief analysis of each company, including their Morningstar ratings, forward dividend yield, and reasons why they are attractive investments.\n"
     ]
    }
   ],
   "source": [
    "query = 'What is the main goal of the document?'\n",
    "response = qa_chain.invoke({'input': query})\n",
    "print(response['answer'])"
   ]
  },
  {
   "cell_type": "markdown",
   "id": "826b203d-ae62-47f4-ab8f-68c8b5d8d3ee",
   "metadata": {},
   "source": [
    "### Economic Rating"
   ]
  },
  {
   "cell_type": "code",
   "execution_count": 19,
   "id": "edf881c5-ebc9-4daa-bb62-3b3d7466401a",
   "metadata": {},
   "outputs": [
    {
     "name": "stdout",
     "output_type": "stream",
     "text": [
      "According to the provided context, the moat rating for Becton Dickinson (BDX) is Narrow.\n"
     ]
    }
   ],
   "source": [
    "query = \"What's the moat rating for Becton Dickinson?\"\n",
    "response = qa_chain.invoke({'input': query})\n",
    "print(response['answer'])"
   ]
  },
  {
   "cell_type": "markdown",
   "id": "bd0bdd06-b5e0-42fa-9dcb-e9a42df6d537",
   "metadata": {},
   "source": [
    "### Dividend Yield"
   ]
  },
  {
   "cell_type": "code",
   "execution_count": 20,
   "id": "8213fc80-383c-4ca0-8450-56fd06881965",
   "metadata": {},
   "outputs": [
    {
     "name": "stdout",
     "output_type": "stream",
     "text": [
      "According to the provided context, the forward dividend yield for PepsiCo (PEP) is 3.97%.\n"
     ]
    }
   ],
   "source": [
    "query = \"What's the dividend yield for Pepsi?\"\n",
    "response = qa_chain.invoke({'input': query})\n",
    "print(response['answer'])"
   ]
  },
  {
   "cell_type": "markdown",
   "id": "e1bedf63-ea0b-482d-bce9-f940358d345c",
   "metadata": {},
   "source": [
    "### Stock Symbol"
   ]
  },
  {
   "cell_type": "code",
   "execution_count": 21,
   "id": "67ea3d10-abb0-4415-8695-a3728fb19952",
   "metadata": {},
   "outputs": [
    {
     "name": "stdout",
     "output_type": "stream",
     "text": [
      "The stock symbol for ExxonMobil is XOM.\n"
     ]
    }
   ],
   "source": [
    "query = \"What's the stock symbol for ExxonMobil?\"\n",
    "response = qa_chain.invoke({'input': query})\n",
    "print(response['answer'])"
   ]
  },
  {
   "cell_type": "markdown",
   "id": "7a83befa-902b-4af4-95aa-6a24051d5ecb",
   "metadata": {},
   "source": [
    "## Load Watermark"
   ]
  },
  {
   "cell_type": "code",
   "execution_count": 22,
   "id": "68eb25f7-34b6-42ea-81fe-88a7147ba1cd",
   "metadata": {},
   "outputs": [],
   "source": [
    "from watermark import watermark\n",
    "%load_ext watermark\n",
    "# print(watermark())"
   ]
  },
  {
   "cell_type": "markdown",
   "id": "a99f1089-c03f-4500-b5a4-662df33080af",
   "metadata": {},
   "source": [
    "## Display Modules"
   ]
  },
  {
   "cell_type": "code",
   "execution_count": 23,
   "id": "b9215514-b902-4675-8967-bd9ee0880279",
   "metadata": {},
   "outputs": [
    {
     "name": "stdout",
     "output_type": "stream",
     "text": [
      "langchain               : 0.3.27\n",
      "langchain_groq          : 0.3.6\n",
      "chromadb                : 1.0.15\n",
      "langchain_text_splitters: 0.3.9\n",
      "langchain_core          : 0.3.72\n",
      "watermark               : 2.5.0\n",
      "langchain_pull_md       : 0.1.1\n",
      "sys                     : 3.13.5 (main, Jun 21 2025, 09:35:00) [GCC 15.1.1 20250425]\n",
      "langchain_chroma        : 0.2.5\n",
      "langchain_huggingface   : 0.3.1\n",
      "\n"
     ]
    }
   ],
   "source": [
    "%watermark --iversions"
   ]
  },
  {
   "cell_type": "code",
   "execution_count": 24,
   "id": "4dc01b32-23a5-42e3-b3b2-0c2ac94a27e3",
   "metadata": {},
   "outputs": [
    {
     "name": "stdout",
     "output_type": "stream",
     "text": [
      "613addfb-bde9-4c53-b203-d2fbd9450438 {'Header 2': 'Medtronic'}\n",
      "57e093e8-a29c-4f32-ae3f-00dc3181140f {'Header 2': 'Becton Dickinson'}\n",
      "38d0ed4b-fd29-49f3-a75e-a20f6dba162f {'Header 2': 'West Pharmaceutical'}\n",
      "01284386-1123-44b8-b290-0239e849154c {'Header 2': 'Nordson'}\n"
     ]
    }
   ],
   "source": [
    "retriever = vector_store.as_retriever()\n",
    "query = \"What is the discount for Medtronic?\"\n",
    "retrieved_docs = retriever.invoke(query)\n",
    "for d in retrieved_docs:\n",
    "    print(f'{d.id} {d.metadata}')"
   ]
  },
  {
   "cell_type": "code",
   "execution_count": 25,
   "id": "f111fe54-5724-4af3-ab1d-2fc8bd2189b1",
   "metadata": {},
   "outputs": [
    {
     "name": "stdout",
     "output_type": "stream",
     "text": [
      "613addfb-bde9-4c53-b203-d2fbd9450438 {'Header 2': 'Medtronic'}\n",
      "57e093e8-a29c-4f32-ae3f-00dc3181140f {'Header 2': 'Becton Dickinson'}\n",
      "38d0ed4b-fd29-49f3-a75e-a20f6dba162f {'Header 2': 'West Pharmaceutical'}\n",
      "01284386-1123-44b8-b290-0239e849154c {'Header 2': 'Nordson'}\n"
     ]
    }
   ],
   "source": [
    "retriever = vector_store.as_retriever()\n",
    "query = 'Summarize Medtronic'\n",
    "retrieved_docs = retriever.invoke(query)\n",
    "for d in retrieved_docs:\n",
    "    print(f'{d.id} {d.metadata}')"
   ]
  },
  {
   "cell_type": "code",
   "execution_count": 26,
   "id": "b2125606-9642-4e98-ba06-d862948a464e",
   "metadata": {},
   "outputs": [
    {
     "name": "stdout",
     "output_type": "stream",
     "text": [
      "85f41006-eefc-4ce0-a45d-49aa0b007d34 {'Header 2': 'The 10 best dividend aristocrats to buy now'}\n",
      "02a0b66a-e0b9-42c6-be8e-a8004d6bb4d7 {'Header 2': 'ExxonMobil'}\n",
      "9c4038bd-de0d-4437-88c7-266c68029ddd {'Header 2': 'PepsiCo'}\n",
      "52f1c92b-1e24-4552-8cd5-25b837a0a24e {'Header 2': 'What is a dividend aristocrat?'}\n"
     ]
    }
   ],
   "source": [
    "retriever = vector_store.as_retriever()\n",
    "query = 'what are stock symbols discussed?'\n",
    "retrieved_docs = retriever.invoke(query)\n",
    "for d in retrieved_docs:\n",
    "    print(f'{d.id} {d.metadata}')"
   ]
  }
 ],
 "metadata": {
  "kernelspec": {
   "display_name": "Python 3 (ipykernel)",
   "language": "python",
   "name": "python3"
  },
  "language_info": {
   "codemirror_mode": {
    "name": "ipython",
    "version": 3
   },
   "file_extension": ".py",
   "mimetype": "text/x-python",
   "name": "python",
   "nbconvert_exporter": "python",
   "pygments_lexer": "ipython3",
   "version": "3.13.5"
  }
 },
 "nbformat": 4,
 "nbformat_minor": 5
}
