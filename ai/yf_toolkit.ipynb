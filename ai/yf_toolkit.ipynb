{
 "cells": [
  {
   "cell_type": "code",
   "execution_count": 1,
   "id": "d7c1b334-1fab-4786-a079-67959e669f76",
   "metadata": {},
   "outputs": [],
   "source": [
    "# import sys\n",
    "# !{sys.executable} -m pip install --upgrade pip\n",
    "# !{sys.executable} -m pip install --upgrade agno\n",
    "# !{sys.executable} -m pip install --upgrade yfinance"
   ]
  },
  {
   "cell_type": "code",
   "execution_count": 4,
   "id": "417d0ab6-0d0a-44ba-92ad-78ad3e8826db",
   "metadata": {},
   "outputs": [],
   "source": [
    "from agno.tools import Toolkit\n",
    "from datetime import datetime, timedelta\n",
    "import yfinance as yf\n",
    "\n",
    "class StockPriceTool(Toolkit):\n",
    "    def __init__(self):\n",
    "        super().__init__(name='stock_price_toolkit')\n",
    "        self.register(self.date_range)\n",
    "        self.register(self.stock_price)\n",
    "\n",
    "    def date_range(self, user_date:str):\n",
    "        \"\"\"Calculates the start and end dates for a given date.\n",
    "        Args:\n",
    "            user_date (str): The date provided by the user to work out the range.\n",
    "        Returns:\n",
    "            str: A message indicating the start and end date ranges\n",
    "        \"\"\"        \n",
    "        # Define the target date from the user's prompt\n",
    "        target_date = datetime.strptime(user_date, '%Y-%m-%d').date()\n",
    "        \n",
    "        # Define today's date\n",
    "        today = datetime.now().date()\n",
    "        \n",
    "        # Calculate the difference in days\n",
    "        delta = (today - target_date).days\n",
    "        \n",
    "        # Apply the rules for the end date\n",
    "        if delta <= 0:\n",
    "            end_date = today + timedelta(days=1)\n",
    "        elif delta > 3:\n",
    "            end_date = target_date + timedelta(days=3)\n",
    "        else:\n",
    "            end_date = today\n",
    "        \n",
    "        # Calculate the start date based on the determined end date\n",
    "        start_date = end_date - timedelta(days=6)\n",
    "        return f'Start date is {start_date} and the end date is {end_date}'\n",
    "        \n",
    "    def stock_price(self, ticker:str, target_date:str, start_date:str, end_date:str) -> str:\n",
    "        \"\"\"Retrieves the current stock price for the given ticker symbol withing given date range.\n",
    "        Args:\n",
    "            ticker (str): The stock ticker symbol (e.g., 'AAPL', 'TSLA').\n",
    "            target_date (str): The date we want to get the price for.\n",
    "            start_date (str): The start date of the date range.\n",
    "            end_date (str): The end date of the date range.\n",
    "        Returns:\n",
    "            str: A message indicating the current stock price, or an error message if the ticker is invalid.\n",
    "        \"\"\"\n",
    "        try:\n",
    "            # Get the prices from yfinance\n",
    "            data = yf.download(ticker, start=start_date, end=end_date, auto_adjust=True)['Close']\n",
    "            if not data.empty:\n",
    "                # Get the nearest index as the target date may not exist\n",
    "                pos = data.index.get_indexer([target_date], method='nearest')[0]\n",
    "                price = data.iloc[pos, 0]\n",
    "                actual_date = data.index[pos].strftime('%Y-%m-%d')\n",
    "                if target_date != actual_date:\n",
    "                    return f'The stock price of {ticker} on the closest day {actual_date} is ${price:.2f}'\n",
    "                else:\n",
    "                    # Found the price on the target date\n",
    "                    return f'The stock price of {ticker} on {target_date} is ${price:.2f}.'\n",
    "            else:\n",
    "                return f'Could not find current stock price for {ticker}.' \n",
    "        except Exception as e:\n",
    "            return f'Error retrieving stock price for {ticker}: {str(e)}'"
   ]
  },
  {
   "cell_type": "code",
   "execution_count": 5,
   "id": "42182fbd-3e12-45a0-8f4e-4a4c0547702c",
   "metadata": {},
   "outputs": [],
   "source": [
    "from agno.agent import Agent\n",
    "from agno.models.groq import Groq\n",
    "\n",
    "instructions=[\n",
    "    'Get the start and end dates using the target date first before getting the stock price',\n",
    "    'Indicate if the stock price date is different to the target date'\n",
    "]\n",
    "agent = Agent(\n",
    "    name='Stock Analyst',\n",
    "    role='You are a helpful Assistant to get stock prices using tools',\n",
    "    model=Groq(id='llama3-8b-8192'),\n",
    "    instructions=instructions,\n",
    "    tools=[StockPriceTool()],\n",
    "    show_tool_calls=True,\n",
    "    # debug_mode=True\n",
    ")"
   ]
  },
  {
   "cell_type": "code",
   "execution_count": 6,
   "id": "ac2c2ee2-8e71-47f1-9b1a-d0e5d6a983b7",
   "metadata": {},
   "outputs": [
    {
     "data": {
      "text/plain": [
       "True"
      ]
     },
     "execution_count": 6,
     "metadata": {},
     "output_type": "execute_result"
    }
   ],
   "source": [
    "from dotenv import load_dotenv\n",
    "load_dotenv()"
   ]
  },
  {
   "cell_type": "code",
   "execution_count": 7,
   "id": "49ed128a-fa88-4c68-b71b-dabaf27f4fcf",
   "metadata": {},
   "outputs": [
    {
     "name": "stderr",
     "output_type": "stream",
     "text": [
      "[*********************100%***********************]  1 of 1 completed\n"
     ]
    },
    {
     "data": {
      "text/html": [
       "<pre style=\"white-space:pre;overflow-x:auto;line-height:normal;font-family:Menlo,'DejaVu Sans Mono',consolas,'Courier New',monospace\"><span style=\"color: #000080; text-decoration-color: #000080\">╭───────────────────────────────────────────────────╮</span>\n",
       "<span style=\"color: #000080; text-decoration-color: #000080\">│</span> The stock price of GOOG on 2025-08-08 is $202.09. <span style=\"color: #000080; text-decoration-color: #000080\">│</span>\n",
       "<span style=\"color: #000080; text-decoration-color: #000080\">╰───────────────────────────────────────────────────╯</span>\n",
       "</pre>\n"
      ],
      "text/plain": [
       "\u001b[34m╭───────────────────────────────────────────────────╮\u001b[0m\n",
       "\u001b[34m│\u001b[0m The stock price of GOOG on 2025-08-08 is $202.09. \u001b[34m│\u001b[0m\n",
       "\u001b[34m╰───────────────────────────────────────────────────╯\u001b[0m\n"
      ]
     },
     "metadata": {},
     "output_type": "display_data"
    }
   ],
   "source": [
    "from agno.utils.pprint import pprint_run_response\n",
    "\n",
    "target_date = '2025-08-08'\n",
    "ticker = 'GOOG'\n",
    "prompt = f\"What's the stock price of ticker {ticker} on {target_date}?\"\n",
    "response = agent.run(prompt)\n",
    "pprint_run_response(response)\n",
    "# print(response.content)"
   ]
  }
 ],
 "metadata": {
  "kernelspec": {
   "display_name": "Python 3 (ipykernel)",
   "language": "python",
   "name": "python3"
  },
  "language_info": {
   "codemirror_mode": {
    "name": "ipython",
    "version": 3
   },
   "file_extension": ".py",
   "mimetype": "text/x-python",
   "name": "python",
   "nbconvert_exporter": "python",
   "pygments_lexer": "ipython3",
   "version": "3.13.5"
  }
 },
 "nbformat": 4,
 "nbformat_minor": 5
}
